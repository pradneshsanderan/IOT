{
 "cells": [
  {
   "cell_type": "markdown",
   "metadata": {
    "id": "aeCVqPEb0tKq"
   },
   "source": [
    "## Configuration"
   ]
  },
  {
   "cell_type": "code",
   "execution_count": null,
   "metadata": {
    "id": "_ALogWAE0sKT"
   },
   "outputs": [],
   "source": [
    "# Configuration\n",
    "features = ['accel_x', 'accel_y', 'accel_z', 'gyro_x', 'gyro_y', 'gyro_z']\n",
    "num_feat = len(features)\n",
    "random_seed = 10\n",
    "\n",
    "freq = 12.5 # Hz\n",
    "frame_length = 4 # sec\n",
    "overlap_percentage = 0 # recommend .5\n",
    "cutmix = False\n",
    "\n",
    "opt = 'adam' # optimizer \n",
    "ema = False\n",
    "\n",
    "epochs = 10\n",
    "\n",
    "# Calculation\n",
    "frame_size = int(freq * frame_length )\n",
    "overlap_size = int(frame_size * overlap_percentage)\n",
    "increment_size = int(frame_size * (1 - overlap_percentage))"
   ]
  },
  {
   "cell_type": "markdown",
   "metadata": {
    "id": "4m80yXmXv9Qx"
   },
   "source": [
    "## Import lib"
   ]
  },
  {
   "cell_type": "code",
   "execution_count": null,
   "metadata": {
    "id": "dbSSGkBut8DM"
   },
   "outputs": [],
   "source": [
    "import time\n",
    "import glob\n",
    "import statistics\n",
    "import os\n",
    "import json\n",
    "import joblib\n",
    "import json\n",
    "\n",
    "import numpy as np\n",
    "import scipy as sp\n",
    "import pandas as pd\n",
    "import matplotlib.pyplot as plt\n",
    "\n",
    "from numpy import mean, std\n",
    "from pathlib import Path\n",
    "\n",
    "from scipy import stats\n",
    "from scipy.io import loadmat\n",
    "from sklearn.preprocessing import MinMaxScaler, StandardScaler, LabelEncoder\n",
    "\n",
    "from sklearn.decomposition import PCA, IncrementalPCA, KernelPCA, SparsePCA, FastICA, TruncatedSVD\n",
    "from sklearn.discriminant_analysis import LinearDiscriminantAnalysis\n",
    "from sklearn.random_projection import GaussianRandomProjection, SparseRandomProjection\n",
    "\n",
    "from sklearn.model_selection import (cross_val_score, cross_validate, StratifiedKFold, \n",
    "                                      LeaveOneGroupOut, ShuffleSplit, GroupKFold,\n",
    "                                      GroupShuffleSplit, PredefinedSplit, RepeatedKFold,\n",
    "                                      KFold)\n",
    "\n",
    "# from sklearn.linear_model import LogisticRegression \n",
    "from sklearn.neighbors import KNeighborsClassifier, NeighborhoodComponentsAnalysis\n",
    "from sklearn.naive_bayes import GaussianNB\n",
    "from sklearn.svm import SVC\n",
    "from sklearn.tree import DecisionTreeClassifier\n",
    "from sklearn.ensemble import RandomForestClassifier\n",
    "from xgboost import XGBClassifier\n",
    "from lightgbm import LGBMClassifier\n",
    "\n",
    "from sklearn.pipeline import Pipeline\n"
   ]
  },
  {
   "cell_type": "markdown",
   "metadata": {
    "id": "3K9sLeFXwDYB"
   },
   "source": [
    "## Load dataset"
   ]
  },
  {
   "cell_type": "code",
   "execution_count": null,
   "metadata": {
    "colab": {
     "base_uri": "https://localhost:8080/"
    },
    "id": "oyrL2sTEM8kl",
    "outputId": "82921a00-0dcf-4c4b-8fc4-11cb4fdccf03"
   },
   "outputs": [
    {
     "name": "stdout",
     "output_type": "stream",
     "text": [
      "Mounted at /content/drive\n"
     ]
    }
   ],
   "source": [
    "from google.colab import drive\n",
    "drive.mount(\"/content/drive\", force_remount=True)"
   ]
  },
  {
   "cell_type": "code",
   "execution_count": null,
   "metadata": {
    "id": "3Ckxo3-yM5p9"
   },
   "outputs": [],
   "source": [
    "!unzip -qo '/content/drive/Shareddrives/Ink/PDIoT/training_data.zip'"
   ]
  },
  {
   "cell_type": "code",
   "execution_count": null,
   "metadata": {
    "colab": {
     "base_uri": "https://localhost:8080/"
    },
    "id": "ZdFaHv8_WdjB",
    "outputId": "9a03cdf7-d843-4ef0-8b25-70651db50274"
   },
   "outputs": [
    {
     "data": {
      "text/plain": [
       "(1021,)"
      ]
     },
     "execution_count": 77,
     "metadata": {},
     "output_type": "execute_result"
    }
   ],
   "source": [
    "data = []\n",
    "\n",
    "dataset_folder = '/content/training_data/thingy'\n",
    "\n",
    "for subfolder in glob.glob(os.path.join(dataset_folder, '*')): # find all subfolder\n",
    "    activity = subfolder[len(dataset_folder)+1:]\n",
    "    #print(activity)\n",
    "\n",
    "\n",
    "    # for file in sorted(glob.glob(os.path.join(subfolder, '*.json')), key= lambda x: int(os.path.basename(x).split('_')[0])): # find files in numerically sorted order\n",
    "    for file in glob.glob(os.path.join(subfolder, '*.csv')):\n",
    "        # print(file)\n",
    "        # d = pd.read_csv(file, usecols=features) # take only features column\n",
    "        d = pd.read_csv(file)\n",
    "        #d = d.dropna(axis=1)\n",
    "        '''\n",
    "        # Some datasets have 25hz. Those contain gyro_x in column name\n",
    "        # skip every 1 row to reduce halve freq from 25hz -> 12hz\n",
    "        if 'gyro_x' in d: \n",
    "            original_len = len(d)\n",
    "            d = d.take(list(range(0, len(d), 2)))\n",
    "            new_len = len(d)\n",
    "\n",
    "            assert original_len == new_len * 2 or original_len + 1 == new_len * 2, (\n",
    "                    f'{file} not halved. {original_len} vs {new_len}')\n",
    "        '''\n",
    "\n",
    "        # some files have x instead of accel_x\n",
    "        if 'x' in d:\n",
    "            d.rename(columns = {'x': 'accel_x', 'y': 'accel_y', 'z': 'accel_z'}, inplace=True)\n",
    "\n",
    "        d = d.loc[:,features]\n",
    "        d[\"activity\"] = activity\n",
    "\n",
    "        # Rearrange activity column to be first\n",
    "        cols = d.columns.tolist()\n",
    "        cols = cols[-1:] + cols[:-1]\n",
    "        d = d[cols]\n",
    "\n",
    "        # Append to data as numpy arr\n",
    "        data.append(d.to_numpy())\n",
    "     \n",
    "\n",
    "data = np.array(data, dtype=object)\n",
    "data.shape\n"
   ]
  },
  {
   "cell_type": "markdown",
   "metadata": {
    "id": "uS62y1fAKRIQ"
   },
   "source": [
    "## Preprocess"
   ]
  },
  {
   "cell_type": "markdown",
   "metadata": {
    "id": "BqDtAvbZ08rG"
   },
   "source": [
    "### Generator class"
   ]
  },
  {
   "cell_type": "code",
   "execution_count": null,
   "metadata": {
    "id": "XjJUyP6507no"
   },
   "outputs": [],
   "source": [
    "class Generator:\n",
    "    def __init__(self, cutmix, scale, verbose):\n",
    "        self.cutmix = cutmix\n",
    "        self.scale = scale\n",
    "        self.verbose = verbose\n",
    "\n",
    "    def get_frames(self, data):\n",
    "        if self.cutmix:\n",
    "            return self.get_frames_cutmix(data)\n",
    "        else:\n",
    "            return self.get_frames_segment(data)\n",
    "\n",
    "    def flatten(self, df):\n",
    "        return np.asarray([record for li in df for record in li])\n",
    "        # l = []\n",
    "        # for li in df:\n",
    "        #     for record in li:\n",
    "        #         l.append(record)\n",
    "        # return np.asarray(l)\n",
    "\n",
    "    def scale_df(self, df):\n",
    "        if self.verbose:\n",
    "            print('I am scaling the df')\n",
    "        X = df[:,1:]\n",
    "        y = df[:,0].reshape(-1, 1)\n",
    "        df = np.concatenate([y, StandardScaler().fit_transform(X)], axis=1)\n",
    "        return df\n",
    "\n",
    "    # Get all frames via a continuous stream cutmix method\n",
    "    # (we dont use this method)\n",
    "    # \n",
    "    def get_frames_cutmix(self, df):\n",
    "        # Creates a Flattened copy from (N,M,8) into (X,8) \n",
    "        # where N(file), M(records in file)\n",
    "        \n",
    "        if df.ndim != 2:\n",
    "            df = self.flatten(df)\n",
    "\n",
    "        if self.scale:\n",
    "            df = self.scale_df(df)\n",
    "\n",
    "        frames = []\n",
    "        labels = []\n",
    "        for i in range(0, len(df) - frame_size, increment_size):\n",
    "            # Retrieve the most often used label in this segment\n",
    "            label = stats.mode(df[i:i + frame_size, 0])[0][0]\n",
    "            # Take all features in frame except label\n",
    "            frames.append([df[i:i + frame_size, 1:]])\n",
    "            labels.append(label)\n",
    "            \n",
    "\n",
    "        ## Bring the segments into a better shape\n",
    "        frames = np.asarray(frames, dtype=float).reshape(-1, frame_size, num_feat)\n",
    "        labels = np.asarray(labels)\n",
    "\n",
    "        return frames, labels\n",
    "\n",
    "    # Get all frames via single file segment method\n",
    "    def get_frames_segment(self, data):\n",
    "        # Get single frame of a file\n",
    "        def get_frame(li):\n",
    "            frames = []\n",
    "            labels = []\n",
    "            li = np.asarray(li)\n",
    "            for i in range(0, len(li) - frame_size, increment_size):\n",
    "                frames.append(li[i:i+frame_size, 1:])\n",
    "                labels.append(li[i, 0])\n",
    "            return frames, labels\n",
    "\n",
    "\n",
    "        frames, labels = [], []\n",
    "        for li in data:\n",
    "            f, l = get_frame(li)\n",
    "            frames.extend(f)\n",
    "            labels.extend(l)\n",
    "\n",
    "        frames = np.asarray(frames, dtype=float).reshape(-1, frame_size, num_feat)\n",
    "        labels = np.asarray(labels)\n",
    "        return frames, labels"
   ]
  },
  {
   "cell_type": "markdown",
   "metadata": {
    "id": "HLJXgkF_1Qab"
   },
   "source": [
    "### Get frames"
   ]
  },
  {
   "cell_type": "code",
   "execution_count": null,
   "metadata": {
    "id": "26_TObM81Nu0"
   },
   "outputs": [],
   "source": [
    "generator = Generator(cutmix=cutmix, scale=False, verbose=True)\n",
    "df, labels = generator.get_frames(data=data)"
   ]
  },
  {
   "cell_type": "code",
   "execution_count": null,
   "metadata": {
    "colab": {
     "base_uri": "https://localhost:8080/"
    },
    "id": "JXxC65jb1zjY",
    "outputId": "7fa8f956-c5bd-4fcb-d3e1-053d788c21e7"
   },
   "outputs": [
    {
     "data": {
      "text/plain": [
       "(15015, 50, 6)"
      ]
     },
     "execution_count": 80,
     "metadata": {},
     "output_type": "execute_result"
    }
   ],
   "source": [
    "df.shape"
   ]
  },
  {
   "cell_type": "code",
   "execution_count": null,
   "metadata": {
    "colab": {
     "base_uri": "https://localhost:8080/"
    },
    "id": "Tl9mhBhMt6XZ",
    "outputId": "117ec88b-e077-4eca-dc88-4183531337ba"
   },
   "outputs": [
    {
     "data": {
      "text/plain": [
       "(array(['ascending_stairs', 'descending_stairs', 'desk_work',\n",
       "        'lying_on_back', 'lying_on_left_side', 'lying_on_right_side',\n",
       "        'lying_on_stomach', 'movement', 'running', 'sitting',\n",
       "        'sitting_bent_backward', 'sitting_bent_forward', 'standing',\n",
       "        'walking'], dtype='<U21'),\n",
       " array([1069, 1068, 1075, 1076, 1073, 1073, 1077, 1058, 1074, 1076, 1074,\n",
       "        1072, 1074, 1076]))"
      ]
     },
     "execution_count": 81,
     "metadata": {},
     "output_type": "execute_result"
    }
   ],
   "source": [
    "np.unique(labels,return_counts=True)"
   ]
  },
  {
   "cell_type": "markdown",
   "metadata": {
    "id": "ydinB6oRQ907"
   },
   "source": [
    "### Labels Encoding"
   ]
  },
  {
   "cell_type": "code",
   "execution_count": null,
   "metadata": {
    "colab": {
     "base_uri": "https://localhost:8080/"
    },
    "id": "dvIWyRH_RAIW",
    "outputId": "c3960be3-d8e7-4e1d-e4ce-88e559eb8647"
   },
   "outputs": [
    {
     "data": {
      "text/plain": [
       "array(['ascending_stairs', 'descending_stairs', 'desk_work',\n",
       "       'lying_on_back', 'lying_on_left_side', 'lying_on_right_side',\n",
       "       'lying_on_stomach', 'movement', 'running', 'sitting',\n",
       "       'sitting_bent_backward', 'sitting_bent_forward', 'standing',\n",
       "       'walking'], dtype='<U21')"
      ]
     },
     "execution_count": 82,
     "metadata": {},
     "output_type": "execute_result"
    }
   ],
   "source": [
    "encoder = LabelEncoder()\n",
    "labels_encoded = encoder.fit_transform(labels)\n",
    "encoder.classes_"
   ]
  },
  {
   "cell_type": "code",
   "execution_count": null,
   "metadata": {
    "colab": {
     "base_uri": "https://localhost:8080/"
    },
    "id": "DXopCk2549bZ",
    "outputId": "6ffbd301-05b0-4d25-fe1e-b89768805195"
   },
   "outputs": [
    {
     "name": "stdout",
     "output_type": "stream",
     "text": [
      "{0: 'ascending_stairs', 1: 'descending_stairs', 2: 'desk_work', 3: 'lying_on_back', 4: 'lying_on_left_side', 5: 'lying_on_right_side', 6: 'lying_on_stomach', 7: 'movement', 8: 'running', 9: 'sitting', 10: 'sitting_bent_backward', 11: 'sitting_bent_forward', 12: 'standing', 13: 'walking'}\n"
     ]
    }
   ],
   "source": [
    "# Get dict that maps index to name\n",
    "# Useful for prediction to map results back to text\n",
    "temp = {}\n",
    "for i, val in enumerate(encoder.classes_):\n",
    "    temp[i] = val\n",
    "\n",
    "print(temp)"
   ]
  },
  {
   "cell_type": "markdown",
   "metadata": {
    "id": "i463Bobe0JyS"
   },
   "source": [
    "## Feature Extraction"
   ]
  },
  {
   "cell_type": "code",
   "execution_count": null,
   "metadata": {
    "id": "zJQ8lzzu39Y9"
   },
   "outputs": [],
   "source": [
    "def feat_extr(signal):\n",
    "    list_feat = []\n",
    "\n",
    "    for i in range(num_feat):\n",
    "        mean_s = stats.tmean(signal[:,i])\n",
    "        median_s = statistics.median(signal[:,i])\n",
    "        mode_s = stats.mode(signal[:,i])[0][0]\n",
    "        stdev_s = stats.tstd(signal[:,i])\n",
    "        max_s = stats.tmax(signal[:,i])    \n",
    "        min_s = stats.tmin(signal[:,i])    \n",
    "        range_s = max_s - min_s\n",
    "        skew_s = stats.skew(signal[:,i])\n",
    "        kurt_s = stats.kurtosis(signal[:,i])\n",
    "        p10_s = np.percentile(signal[:,i], 10)\n",
    "        p25_s = np.percentile(signal[:,i], 25)\n",
    "        p50_s = np.percentile(signal[:,i], 50)\n",
    "        p75_s = np.percentile(signal[:,i], 75)\n",
    "        p90_s = np.percentile(signal[:,i], 90)\n",
    " \n",
    "        list_feat.extend([mean_s, median_s, mode_s, stdev_s, max_s, min_s, range_s, skew_s, kurt_s, \n",
    "                            p10_s, p25_s, p50_s, p75_s, p90_s])\n",
    "    \n",
    "    return np.array(list_feat)"
   ]
  },
  {
   "cell_type": "code",
   "execution_count": null,
   "metadata": {
    "colab": {
     "base_uri": "https://localhost:8080/"
    },
    "id": "02G3hoCh1q5I",
    "outputId": "8bab4837-75d1-4072-9e88-52eccd210eb2"
   },
   "outputs": [
    {
     "data": {
      "text/plain": [
       "(15015, 84)"
      ]
     },
     "execution_count": 85,
     "metadata": {},
     "output_type": "execute_result"
    }
   ],
   "source": [
    "data = []\n",
    "\n",
    "for frame in df:\n",
    "    data.append(feat_extr(frame))\n",
    "\n",
    "data = np.array(data)\n",
    "data.shape     "
   ]
  },
  {
   "cell_type": "code",
   "execution_count": null,
   "metadata": {
    "colab": {
     "base_uri": "https://localhost:8080/",
     "height": 487
    },
    "id": "59WepEZR3ZRa",
    "outputId": "0aac756a-601d-4edb-ffc5-946340ddd3c2"
   },
   "outputs": [
    {
     "data": {
      "text/html": [
       "\n",
       "  <div id=\"df-a354877b-b36f-42c4-9c2b-a09cdd935ef4\">\n",
       "    <div class=\"colab-df-container\">\n",
       "      <div>\n",
       "<style scoped>\n",
       "    .dataframe tbody tr th:only-of-type {\n",
       "        vertical-align: middle;\n",
       "    }\n",
       "\n",
       "    .dataframe tbody tr th {\n",
       "        vertical-align: top;\n",
       "    }\n",
       "\n",
       "    .dataframe thead th {\n",
       "        text-align: right;\n",
       "    }\n",
       "</style>\n",
       "<table border=\"1\" class=\"dataframe\">\n",
       "  <thead>\n",
       "    <tr style=\"text-align: right;\">\n",
       "      <th></th>\n",
       "      <th>accel_x_mean</th>\n",
       "      <th>accel_x_median</th>\n",
       "      <th>accel_x_mode</th>\n",
       "      <th>accel_x_stdev</th>\n",
       "      <th>accel_x_max</th>\n",
       "      <th>accel_x_min</th>\n",
       "      <th>accel_x_range</th>\n",
       "      <th>accel_x_skew</th>\n",
       "      <th>accel_x_kurt</th>\n",
       "      <th>accel_x_p10</th>\n",
       "      <th>...</th>\n",
       "      <th>gyro_z_max</th>\n",
       "      <th>gyro_z_min</th>\n",
       "      <th>gyro_z_range</th>\n",
       "      <th>gyro_z_skew</th>\n",
       "      <th>gyro_z_kurt</th>\n",
       "      <th>gyro_z_p10</th>\n",
       "      <th>gyro_z_p25</th>\n",
       "      <th>gyro_z_p50</th>\n",
       "      <th>gyro_z_p75</th>\n",
       "      <th>gyro_z_p90</th>\n",
       "    </tr>\n",
       "  </thead>\n",
       "  <tbody>\n",
       "    <tr>\n",
       "      <th>0</th>\n",
       "      <td>-0.967031</td>\n",
       "      <td>-0.964355</td>\n",
       "      <td>-1.133789</td>\n",
       "      <td>0.144050</td>\n",
       "      <td>-0.675781</td>\n",
       "      <td>-1.293945</td>\n",
       "      <td>0.618164</td>\n",
       "      <td>-0.237751</td>\n",
       "      <td>0.006129</td>\n",
       "      <td>-1.137402</td>\n",
       "      <td>...</td>\n",
       "      <td>68.87500</td>\n",
       "      <td>-130.90625</td>\n",
       "      <td>199.78125</td>\n",
       "      <td>-0.662656</td>\n",
       "      <td>-0.753389</td>\n",
       "      <td>-88.450000</td>\n",
       "      <td>-64.460938</td>\n",
       "      <td>5.390625</td>\n",
       "      <td>24.140625</td>\n",
       "      <td>35.084375</td>\n",
       "    </tr>\n",
       "    <tr>\n",
       "      <th>1</th>\n",
       "      <td>-0.961895</td>\n",
       "      <td>-0.964844</td>\n",
       "      <td>-0.968750</td>\n",
       "      <td>0.158779</td>\n",
       "      <td>-0.650391</td>\n",
       "      <td>-1.428711</td>\n",
       "      <td>0.778320</td>\n",
       "      <td>-0.247348</td>\n",
       "      <td>0.563650</td>\n",
       "      <td>-1.106055</td>\n",
       "      <td>...</td>\n",
       "      <td>48.09375</td>\n",
       "      <td>-120.84375</td>\n",
       "      <td>168.93750</td>\n",
       "      <td>-1.554565</td>\n",
       "      <td>1.258883</td>\n",
       "      <td>-79.675000</td>\n",
       "      <td>3.789062</td>\n",
       "      <td>21.250000</td>\n",
       "      <td>33.203125</td>\n",
       "      <td>41.303125</td>\n",
       "    </tr>\n",
       "    <tr>\n",
       "      <th>2</th>\n",
       "      <td>-0.982559</td>\n",
       "      <td>-0.978516</td>\n",
       "      <td>-1.023438</td>\n",
       "      <td>0.147220</td>\n",
       "      <td>-0.606445</td>\n",
       "      <td>-1.340820</td>\n",
       "      <td>0.734375</td>\n",
       "      <td>0.073543</td>\n",
       "      <td>0.900667</td>\n",
       "      <td>-1.143262</td>\n",
       "      <td>...</td>\n",
       "      <td>63.25000</td>\n",
       "      <td>-104.46875</td>\n",
       "      <td>167.71875</td>\n",
       "      <td>-1.412706</td>\n",
       "      <td>0.988832</td>\n",
       "      <td>-76.634375</td>\n",
       "      <td>7.203125</td>\n",
       "      <td>17.343750</td>\n",
       "      <td>28.804688</td>\n",
       "      <td>36.718750</td>\n",
       "    </tr>\n",
       "    <tr>\n",
       "      <th>3</th>\n",
       "      <td>-0.976016</td>\n",
       "      <td>-0.999512</td>\n",
       "      <td>-1.187500</td>\n",
       "      <td>0.205914</td>\n",
       "      <td>-0.463867</td>\n",
       "      <td>-1.568359</td>\n",
       "      <td>1.104492</td>\n",
       "      <td>0.149707</td>\n",
       "      <td>0.530670</td>\n",
       "      <td>-1.187500</td>\n",
       "      <td>...</td>\n",
       "      <td>87.65625</td>\n",
       "      <td>-111.12500</td>\n",
       "      <td>198.78125</td>\n",
       "      <td>-0.325064</td>\n",
       "      <td>-0.825393</td>\n",
       "      <td>-79.606250</td>\n",
       "      <td>-54.742188</td>\n",
       "      <td>3.125000</td>\n",
       "      <td>21.320312</td>\n",
       "      <td>41.578125</td>\n",
       "    </tr>\n",
       "    <tr>\n",
       "      <th>4</th>\n",
       "      <td>-0.977227</td>\n",
       "      <td>-1.003418</td>\n",
       "      <td>-1.058594</td>\n",
       "      <td>0.234893</td>\n",
       "      <td>-0.209961</td>\n",
       "      <td>-1.752930</td>\n",
       "      <td>1.542969</td>\n",
       "      <td>-0.428456</td>\n",
       "      <td>3.882264</td>\n",
       "      <td>-1.121680</td>\n",
       "      <td>...</td>\n",
       "      <td>88.43750</td>\n",
       "      <td>-117.25000</td>\n",
       "      <td>205.68750</td>\n",
       "      <td>-1.026088</td>\n",
       "      <td>0.576162</td>\n",
       "      <td>-59.928125</td>\n",
       "      <td>-8.453125</td>\n",
       "      <td>19.281250</td>\n",
       "      <td>31.859375</td>\n",
       "      <td>46.181250</td>\n",
       "    </tr>\n",
       "    <tr>\n",
       "      <th>...</th>\n",
       "      <td>...</td>\n",
       "      <td>...</td>\n",
       "      <td>...</td>\n",
       "      <td>...</td>\n",
       "      <td>...</td>\n",
       "      <td>...</td>\n",
       "      <td>...</td>\n",
       "      <td>...</td>\n",
       "      <td>...</td>\n",
       "      <td>...</td>\n",
       "      <td>...</td>\n",
       "      <td>...</td>\n",
       "      <td>...</td>\n",
       "      <td>...</td>\n",
       "      <td>...</td>\n",
       "      <td>...</td>\n",
       "      <td>...</td>\n",
       "      <td>...</td>\n",
       "      <td>...</td>\n",
       "      <td>...</td>\n",
       "      <td>...</td>\n",
       "    </tr>\n",
       "    <tr>\n",
       "      <th>15010</th>\n",
       "      <td>-0.215391</td>\n",
       "      <td>-0.214844</td>\n",
       "      <td>-0.218750</td>\n",
       "      <td>0.005883</td>\n",
       "      <td>-0.200195</td>\n",
       "      <td>-0.224609</td>\n",
       "      <td>0.024414</td>\n",
       "      <td>0.428681</td>\n",
       "      <td>-0.473220</td>\n",
       "      <td>-0.222754</td>\n",
       "      <td>...</td>\n",
       "      <td>0.28125</td>\n",
       "      <td>-0.28125</td>\n",
       "      <td>0.56250</td>\n",
       "      <td>0.034515</td>\n",
       "      <td>-0.067880</td>\n",
       "      <td>-0.218750</td>\n",
       "      <td>-0.093750</td>\n",
       "      <td>-0.031250</td>\n",
       "      <td>0.031250</td>\n",
       "      <td>0.156250</td>\n",
       "    </tr>\n",
       "    <tr>\n",
       "      <th>15011</th>\n",
       "      <td>-0.217051</td>\n",
       "      <td>-0.216797</td>\n",
       "      <td>-0.220703</td>\n",
       "      <td>0.004943</td>\n",
       "      <td>-0.206055</td>\n",
       "      <td>-0.225586</td>\n",
       "      <td>0.019531</td>\n",
       "      <td>0.456957</td>\n",
       "      <td>-0.210554</td>\n",
       "      <td>-0.223633</td>\n",
       "      <td>...</td>\n",
       "      <td>0.34375</td>\n",
       "      <td>-0.34375</td>\n",
       "      <td>0.68750</td>\n",
       "      <td>0.565388</td>\n",
       "      <td>0.280446</td>\n",
       "      <td>-0.156250</td>\n",
       "      <td>-0.156250</td>\n",
       "      <td>-0.093750</td>\n",
       "      <td>0.031250</td>\n",
       "      <td>0.156250</td>\n",
       "    </tr>\n",
       "    <tr>\n",
       "      <th>15012</th>\n",
       "      <td>-0.215605</td>\n",
       "      <td>-0.215820</td>\n",
       "      <td>-0.215820</td>\n",
       "      <td>0.006123</td>\n",
       "      <td>-0.200195</td>\n",
       "      <td>-0.227539</td>\n",
       "      <td>0.027344</td>\n",
       "      <td>0.064129</td>\n",
       "      <td>-0.645418</td>\n",
       "      <td>-0.223633</td>\n",
       "      <td>...</td>\n",
       "      <td>0.21875</td>\n",
       "      <td>-0.28125</td>\n",
       "      <td>0.50000</td>\n",
       "      <td>0.088544</td>\n",
       "      <td>-0.523949</td>\n",
       "      <td>-0.156250</td>\n",
       "      <td>-0.140625</td>\n",
       "      <td>-0.031250</td>\n",
       "      <td>0.031250</td>\n",
       "      <td>0.156250</td>\n",
       "    </tr>\n",
       "    <tr>\n",
       "      <th>15013</th>\n",
       "      <td>-0.216758</td>\n",
       "      <td>-0.216797</td>\n",
       "      <td>-0.215820</td>\n",
       "      <td>0.004714</td>\n",
       "      <td>-0.202148</td>\n",
       "      <td>-0.228516</td>\n",
       "      <td>0.026367</td>\n",
       "      <td>0.243526</td>\n",
       "      <td>1.103677</td>\n",
       "      <td>-0.221777</td>\n",
       "      <td>...</td>\n",
       "      <td>0.37500</td>\n",
       "      <td>-0.25000</td>\n",
       "      <td>0.62500</td>\n",
       "      <td>0.371479</td>\n",
       "      <td>-0.151755</td>\n",
       "      <td>-0.159375</td>\n",
       "      <td>-0.085938</td>\n",
       "      <td>0.000000</td>\n",
       "      <td>0.117188</td>\n",
       "      <td>0.162500</td>\n",
       "    </tr>\n",
       "    <tr>\n",
       "      <th>15014</th>\n",
       "      <td>-0.215547</td>\n",
       "      <td>-0.216797</td>\n",
       "      <td>-0.217773</td>\n",
       "      <td>0.004125</td>\n",
       "      <td>-0.204102</td>\n",
       "      <td>-0.222656</td>\n",
       "      <td>0.018555</td>\n",
       "      <td>0.549627</td>\n",
       "      <td>-0.339008</td>\n",
       "      <td>-0.220703</td>\n",
       "      <td>...</td>\n",
       "      <td>0.34375</td>\n",
       "      <td>-0.25000</td>\n",
       "      <td>0.59375</td>\n",
       "      <td>0.192326</td>\n",
       "      <td>0.199504</td>\n",
       "      <td>-0.187500</td>\n",
       "      <td>-0.062500</td>\n",
       "      <td>0.000000</td>\n",
       "      <td>0.062500</td>\n",
       "      <td>0.187500</td>\n",
       "    </tr>\n",
       "  </tbody>\n",
       "</table>\n",
       "<p>15015 rows × 84 columns</p>\n",
       "</div>\n",
       "      <button class=\"colab-df-convert\" onclick=\"convertToInteractive('df-a354877b-b36f-42c4-9c2b-a09cdd935ef4')\"\n",
       "              title=\"Convert this dataframe to an interactive table.\"\n",
       "              style=\"display:none;\">\n",
       "        \n",
       "  <svg xmlns=\"http://www.w3.org/2000/svg\" height=\"24px\"viewBox=\"0 0 24 24\"\n",
       "       width=\"24px\">\n",
       "    <path d=\"M0 0h24v24H0V0z\" fill=\"none\"/>\n",
       "    <path d=\"M18.56 5.44l.94 2.06.94-2.06 2.06-.94-2.06-.94-.94-2.06-.94 2.06-2.06.94zm-11 1L8.5 8.5l.94-2.06 2.06-.94-2.06-.94L8.5 2.5l-.94 2.06-2.06.94zm10 10l.94 2.06.94-2.06 2.06-.94-2.06-.94-.94-2.06-.94 2.06-2.06.94z\"/><path d=\"M17.41 7.96l-1.37-1.37c-.4-.4-.92-.59-1.43-.59-.52 0-1.04.2-1.43.59L10.3 9.45l-7.72 7.72c-.78.78-.78 2.05 0 2.83L4 21.41c.39.39.9.59 1.41.59.51 0 1.02-.2 1.41-.59l7.78-7.78 2.81-2.81c.8-.78.8-2.07 0-2.86zM5.41 20L4 18.59l7.72-7.72 1.47 1.35L5.41 20z\"/>\n",
       "  </svg>\n",
       "      </button>\n",
       "      \n",
       "  <style>\n",
       "    .colab-df-container {\n",
       "      display:flex;\n",
       "      flex-wrap:wrap;\n",
       "      gap: 12px;\n",
       "    }\n",
       "\n",
       "    .colab-df-convert {\n",
       "      background-color: #E8F0FE;\n",
       "      border: none;\n",
       "      border-radius: 50%;\n",
       "      cursor: pointer;\n",
       "      display: none;\n",
       "      fill: #1967D2;\n",
       "      height: 32px;\n",
       "      padding: 0 0 0 0;\n",
       "      width: 32px;\n",
       "    }\n",
       "\n",
       "    .colab-df-convert:hover {\n",
       "      background-color: #E2EBFA;\n",
       "      box-shadow: 0px 1px 2px rgba(60, 64, 67, 0.3), 0px 1px 3px 1px rgba(60, 64, 67, 0.15);\n",
       "      fill: #174EA6;\n",
       "    }\n",
       "\n",
       "    [theme=dark] .colab-df-convert {\n",
       "      background-color: #3B4455;\n",
       "      fill: #D2E3FC;\n",
       "    }\n",
       "\n",
       "    [theme=dark] .colab-df-convert:hover {\n",
       "      background-color: #434B5C;\n",
       "      box-shadow: 0px 1px 3px 1px rgba(0, 0, 0, 0.15);\n",
       "      filter: drop-shadow(0px 1px 2px rgba(0, 0, 0, 0.3));\n",
       "      fill: #FFFFFF;\n",
       "    }\n",
       "  </style>\n",
       "\n",
       "      <script>\n",
       "        const buttonEl =\n",
       "          document.querySelector('#df-a354877b-b36f-42c4-9c2b-a09cdd935ef4 button.colab-df-convert');\n",
       "        buttonEl.style.display =\n",
       "          google.colab.kernel.accessAllowed ? 'block' : 'none';\n",
       "\n",
       "        async function convertToInteractive(key) {\n",
       "          const element = document.querySelector('#df-a354877b-b36f-42c4-9c2b-a09cdd935ef4');\n",
       "          const dataTable =\n",
       "            await google.colab.kernel.invokeFunction('convertToInteractive',\n",
       "                                                     [key], {});\n",
       "          if (!dataTable) return;\n",
       "\n",
       "          const docLinkHtml = 'Like what you see? Visit the ' +\n",
       "            '<a target=\"_blank\" href=https://colab.research.google.com/notebooks/data_table.ipynb>data table notebook</a>'\n",
       "            + ' to learn more about interactive tables.';\n",
       "          element.innerHTML = '';\n",
       "          dataTable['output_type'] = 'display_data';\n",
       "          await google.colab.output.renderOutput(dataTable, element);\n",
       "          const docLink = document.createElement('div');\n",
       "          docLink.innerHTML = docLinkHtml;\n",
       "          element.appendChild(docLink);\n",
       "        }\n",
       "      </script>\n",
       "    </div>\n",
       "  </div>\n",
       "  "
      ],
      "text/plain": [
       "       accel_x_mean  accel_x_median  accel_x_mode  accel_x_stdev  accel_x_max  \\\n",
       "0         -0.967031       -0.964355     -1.133789       0.144050    -0.675781   \n",
       "1         -0.961895       -0.964844     -0.968750       0.158779    -0.650391   \n",
       "2         -0.982559       -0.978516     -1.023438       0.147220    -0.606445   \n",
       "3         -0.976016       -0.999512     -1.187500       0.205914    -0.463867   \n",
       "4         -0.977227       -1.003418     -1.058594       0.234893    -0.209961   \n",
       "...             ...             ...           ...            ...          ...   \n",
       "15010     -0.215391       -0.214844     -0.218750       0.005883    -0.200195   \n",
       "15011     -0.217051       -0.216797     -0.220703       0.004943    -0.206055   \n",
       "15012     -0.215605       -0.215820     -0.215820       0.006123    -0.200195   \n",
       "15013     -0.216758       -0.216797     -0.215820       0.004714    -0.202148   \n",
       "15014     -0.215547       -0.216797     -0.217773       0.004125    -0.204102   \n",
       "\n",
       "       accel_x_min  accel_x_range  accel_x_skew  accel_x_kurt  accel_x_p10  \\\n",
       "0        -1.293945       0.618164     -0.237751      0.006129    -1.137402   \n",
       "1        -1.428711       0.778320     -0.247348      0.563650    -1.106055   \n",
       "2        -1.340820       0.734375      0.073543      0.900667    -1.143262   \n",
       "3        -1.568359       1.104492      0.149707      0.530670    -1.187500   \n",
       "4        -1.752930       1.542969     -0.428456      3.882264    -1.121680   \n",
       "...            ...            ...           ...           ...          ...   \n",
       "15010    -0.224609       0.024414      0.428681     -0.473220    -0.222754   \n",
       "15011    -0.225586       0.019531      0.456957     -0.210554    -0.223633   \n",
       "15012    -0.227539       0.027344      0.064129     -0.645418    -0.223633   \n",
       "15013    -0.228516       0.026367      0.243526      1.103677    -0.221777   \n",
       "15014    -0.222656       0.018555      0.549627     -0.339008    -0.220703   \n",
       "\n",
       "       ...  gyro_z_max  gyro_z_min  gyro_z_range  gyro_z_skew  gyro_z_kurt  \\\n",
       "0      ...    68.87500  -130.90625     199.78125    -0.662656    -0.753389   \n",
       "1      ...    48.09375  -120.84375     168.93750    -1.554565     1.258883   \n",
       "2      ...    63.25000  -104.46875     167.71875    -1.412706     0.988832   \n",
       "3      ...    87.65625  -111.12500     198.78125    -0.325064    -0.825393   \n",
       "4      ...    88.43750  -117.25000     205.68750    -1.026088     0.576162   \n",
       "...    ...         ...         ...           ...          ...          ...   \n",
       "15010  ...     0.28125    -0.28125       0.56250     0.034515    -0.067880   \n",
       "15011  ...     0.34375    -0.34375       0.68750     0.565388     0.280446   \n",
       "15012  ...     0.21875    -0.28125       0.50000     0.088544    -0.523949   \n",
       "15013  ...     0.37500    -0.25000       0.62500     0.371479    -0.151755   \n",
       "15014  ...     0.34375    -0.25000       0.59375     0.192326     0.199504   \n",
       "\n",
       "       gyro_z_p10  gyro_z_p25  gyro_z_p50  gyro_z_p75  gyro_z_p90  \n",
       "0      -88.450000  -64.460938    5.390625   24.140625   35.084375  \n",
       "1      -79.675000    3.789062   21.250000   33.203125   41.303125  \n",
       "2      -76.634375    7.203125   17.343750   28.804688   36.718750  \n",
       "3      -79.606250  -54.742188    3.125000   21.320312   41.578125  \n",
       "4      -59.928125   -8.453125   19.281250   31.859375   46.181250  \n",
       "...           ...         ...         ...         ...         ...  \n",
       "15010   -0.218750   -0.093750   -0.031250    0.031250    0.156250  \n",
       "15011   -0.156250   -0.156250   -0.093750    0.031250    0.156250  \n",
       "15012   -0.156250   -0.140625   -0.031250    0.031250    0.156250  \n",
       "15013   -0.159375   -0.085938    0.000000    0.117188    0.162500  \n",
       "15014   -0.187500   -0.062500    0.000000    0.062500    0.187500  \n",
       "\n",
       "[15015 rows x 84 columns]"
      ]
     },
     "execution_count": 86,
     "metadata": {},
     "output_type": "execute_result"
    }
   ],
   "source": [
    "feature_labels = []\n",
    "\n",
    "for feat in features:\n",
    "    for sub_feat in ['_mean', '_median', '_mode', '_stdev', '_max', \n",
    "                      '_min', '_range', '_skew', '_kurt', '_p10', \n",
    "                      '_p25', '_p50', '_p75', '_p90']:\n",
    "        feature_labels.append(feat + sub_feat)\n",
    "\n",
    "pd.DataFrame(data, columns = feature_labels)"
   ]
  },
  {
   "cell_type": "markdown",
   "metadata": {
    "id": "lhXm5QNd_LW1"
   },
   "source": [
    "## Dimensionality Reduction"
   ]
  },
  {
   "cell_type": "code",
   "execution_count": null,
   "metadata": {
    "id": "t7BAahjh_ODN"
   },
   "outputs": [],
   "source": [
    "## Preferably need to decide on n_components\n",
    "## Maybe GridSearch to find optimal n_components for all/each method\n",
    "\n",
    "dimensionality = []\n",
    "dimensionality.append(('PCA', PCA(random_state=random_seed)))\n",
    "dimensionality.append(('IPCA', IncrementalPCA()))\n",
    "# dimensionality.append(('KPCA', KernelPCA(n_jobs=-1, random_state=random_seed)))\n",
    "dimensionality.append(('SPCA', SparsePCA(random_state=random_seed))) #https://stats.stackexchange.com/questions/438508/what-does-sparse-pca-implementation-in-python-do\n",
    "# dimensionality.append(('FICA', FastICA(random_state=10))) #Performs well here https://www.kaggle.com/remidi/dimensionality-reduction-techniques/\n",
    "\n",
    "# dimensionality.append(('TrunSVD', TruncatedSVD(random_state=10)))\n",
    "\n",
    "# dimensionality.append(('GRP', GaussianRandomProjection(random_state=10))) #Error https://stackoverflow.com/questions/53134297/value-error-eps-0-100000-as-i-try-to-reduce-data-dimensionaity-what-could-be-th\n",
    "# dimensionality.append(('SRP', SparseRandomProjection(random_state=10))) # Same above\n",
    "\n",
    "# dimensionality.append(('LDA', LinearDiscriminantAnalysis()))\n",
    "# dimensionality.append(('NCA', NeighborhoodComponentsAnalysis(random_state=10)))\n",
    "\n",
    "# Question: What if we stacked multiple methods? https://www.kaggle.com/remidi/dimensionality-reduction-techniques/"
   ]
  },
  {
   "cell_type": "markdown",
   "metadata": {
    "id": "pdrDyV0N8-f3"
   },
   "source": [
    "## Clasification models"
   ]
  },
  {
   "cell_type": "code",
   "execution_count": null,
   "metadata": {
    "id": "P3tlIA9T8_O9"
   },
   "outputs": [],
   "source": [
    "## List of Classifiers    \n",
    "model_list = []\n",
    "model_list.append(('KNN', KNeighborsClassifier(n_jobs=-1)))\n",
    "model_list.append(('DT', DecisionTreeClassifier(random_state=random_seed)))\n",
    "model_list.append(('SVM', SVC(random_state=random_seed)))  \n",
    "model_list.append(('RF',  RandomForestClassifier(random_state=random_seed, n_jobs=-1)))  \n",
    "model_list.append(('XGB', XGBClassifier(random_state=random_seed)))  \n",
    "model_list.append(('LightGBM', LGBMClassifier(random_state=random_seed, n_jobs=-1)))  "
   ]
  },
  {
   "cell_type": "markdown",
   "metadata": {
    "id": "2zMC9yAZ9EhW"
   },
   "source": [
    "## Evaluation"
   ]
  },
  {
   "cell_type": "markdown",
   "metadata": {
    "id": "9WeF-DdZ9eWp"
   },
   "source": [
    "### Pipeline"
   ]
  },
  {
   "cell_type": "markdown",
   "metadata": {
    "id": "jO0omX8HD0k4"
   },
   "source": [
    "Create pipeline by adding StandardScalar followed by a dimensionality reduction method, and a model"
   ]
  },
  {
   "cell_type": "code",
   "execution_count": null,
   "metadata": {
    "colab": {
     "base_uri": "https://localhost:8080/"
    },
    "id": "3j7vIiXZ9Fsz",
    "outputId": "40e3d4e8-25a6-45cf-c660-9f9e72ada696"
   },
   "outputs": [
    {
     "data": {
      "text/plain": [
       "[['SScaler -> PCA -> KNN',\n",
       "  Pipeline(steps=[('StandardScaler', StandardScaler()),\n",
       "                  ('PCA', PCA(random_state=10)),\n",
       "                  ('KNN', KNeighborsClassifier(n_jobs=-1))])],\n",
       " ['SScaler -> PCA -> DT', Pipeline(steps=[('StandardScaler', StandardScaler()),\n",
       "                  ('PCA', PCA(random_state=10)),\n",
       "                  ('DT', DecisionTreeClassifier(random_state=10))])],\n",
       " ['SScaler -> PCA -> SVM',\n",
       "  Pipeline(steps=[('StandardScaler', StandardScaler()),\n",
       "                  ('PCA', PCA(random_state=10)), ('SVM', SVC(random_state=10))])],\n",
       " ['SScaler -> PCA -> RF', Pipeline(steps=[('StandardScaler', StandardScaler()),\n",
       "                  ('PCA', PCA(random_state=10)),\n",
       "                  ('RF', RandomForestClassifier(n_jobs=-1, random_state=10))])],\n",
       " ['SScaler -> PCA -> XGB',\n",
       "  Pipeline(steps=[('StandardScaler', StandardScaler()),\n",
       "                  ('PCA', PCA(random_state=10)),\n",
       "                  ('XGB', XGBClassifier(random_state=10))])],\n",
       " ['SScaler -> PCA -> LightGBM',\n",
       "  Pipeline(steps=[('StandardScaler', StandardScaler()),\n",
       "                  ('PCA', PCA(random_state=10)),\n",
       "                  ('LightGBM', LGBMClassifier(random_state=10))])],\n",
       " ['SScaler -> IPCA -> KNN',\n",
       "  Pipeline(steps=[('StandardScaler', StandardScaler()),\n",
       "                  ('IPCA', IncrementalPCA()),\n",
       "                  ('KNN', KNeighborsClassifier(n_jobs=-1))])],\n",
       " ['SScaler -> IPCA -> DT',\n",
       "  Pipeline(steps=[('StandardScaler', StandardScaler()),\n",
       "                  ('IPCA', IncrementalPCA()),\n",
       "                  ('DT', DecisionTreeClassifier(random_state=10))])],\n",
       " ['SScaler -> IPCA -> SVM',\n",
       "  Pipeline(steps=[('StandardScaler', StandardScaler()),\n",
       "                  ('IPCA', IncrementalPCA()), ('SVM', SVC(random_state=10))])],\n",
       " ['SScaler -> IPCA -> RF',\n",
       "  Pipeline(steps=[('StandardScaler', StandardScaler()),\n",
       "                  ('IPCA', IncrementalPCA()),\n",
       "                  ('RF', RandomForestClassifier(n_jobs=-1, random_state=10))])],\n",
       " ['SScaler -> IPCA -> XGB',\n",
       "  Pipeline(steps=[('StandardScaler', StandardScaler()),\n",
       "                  ('IPCA', IncrementalPCA()),\n",
       "                  ('XGB', XGBClassifier(random_state=10))])],\n",
       " ['SScaler -> IPCA -> LightGBM',\n",
       "  Pipeline(steps=[('StandardScaler', StandardScaler()),\n",
       "                  ('IPCA', IncrementalPCA()),\n",
       "                  ('LightGBM', LGBMClassifier(random_state=10))])],\n",
       " ['SScaler -> SPCA -> KNN',\n",
       "  Pipeline(steps=[('StandardScaler', StandardScaler()),\n",
       "                  ('SPCA', SparsePCA(random_state=10)),\n",
       "                  ('KNN', KNeighborsClassifier(n_jobs=-1))])],\n",
       " ['SScaler -> SPCA -> DT',\n",
       "  Pipeline(steps=[('StandardScaler', StandardScaler()),\n",
       "                  ('SPCA', SparsePCA(random_state=10)),\n",
       "                  ('DT', DecisionTreeClassifier(random_state=10))])],\n",
       " ['SScaler -> SPCA -> SVM',\n",
       "  Pipeline(steps=[('StandardScaler', StandardScaler()),\n",
       "                  ('SPCA', SparsePCA(random_state=10)),\n",
       "                  ('SVM', SVC(random_state=10))])],\n",
       " ['SScaler -> SPCA -> RF',\n",
       "  Pipeline(steps=[('StandardScaler', StandardScaler()),\n",
       "                  ('SPCA', SparsePCA(random_state=10)),\n",
       "                  ('RF', RandomForestClassifier(n_jobs=-1, random_state=10))])],\n",
       " ['SScaler -> SPCA -> XGB',\n",
       "  Pipeline(steps=[('StandardScaler', StandardScaler()),\n",
       "                  ('SPCA', SparsePCA(random_state=10)),\n",
       "                  ('XGB', XGBClassifier(random_state=10))])],\n",
       " ['SScaler -> SPCA -> LightGBM',\n",
       "  Pipeline(steps=[('StandardScaler', StandardScaler()),\n",
       "                  ('SPCA', SparsePCA(random_state=10)),\n",
       "                  ('LightGBM', LGBMClassifier(random_state=10))])]]"
      ]
     },
     "execution_count": 89,
     "metadata": {},
     "output_type": "execute_result"
    }
   ],
   "source": [
    "pipes = []\n",
    "\n",
    "for dimension in dimensionality:\n",
    "  for model in model_list:\n",
    "      name = '{} -> {} -> {}'.format('SScaler', dimension[0], model[0])\n",
    "      step = [('StandardScaler', StandardScaler()), dimension, model]\n",
    "      pipes.append([name, Pipeline(steps=step)])\n",
    "\n",
    "pipes"
   ]
  },
  {
   "cell_type": "markdown",
   "metadata": {
    "id": "z4_58Pdn9fsw"
   },
   "source": [
    "### Cross validators"
   ]
  },
  {
   "cell_type": "code",
   "execution_count": null,
   "metadata": {
    "id": "7fO02dZT9ipk"
   },
   "outputs": [],
   "source": [
    "cvs = []\n",
    "# cvs.append(('KFold', KFold(n_splits=10, shuffle=True, random_state=10)))\n",
    "# cvs.append(('Repeat-KFold', RepeatedKFold(n_splits=10, n_repeats=10, random_state=10)))\n",
    "cvs.append(('Strat-KFold', StratifiedKFold(n_splits=10, shuffle=True, random_state=random_seed)))"
   ]
  },
  {
   "cell_type": "markdown",
   "metadata": {
    "id": "jLA7-RgJA9yg"
   },
   "source": [
    "### Train/Eval"
   ]
  },
  {
   "cell_type": "code",
   "execution_count": null,
   "metadata": {
    "colab": {
     "base_uri": "https://localhost:8080/"
    },
    "id": "N4Vd2AaB92T3",
    "outputId": "37c5b405-edbf-4b11-f3e8-33cab48e5ff5"
   },
   "outputs": [
    {
     "name": "stdout",
     "output_type": "stream",
     "text": [
      "SScaler -> PCA -> KNN | Strat-KFold | Time taken : 7.494536876678467 sec \n",
      "accuracy : 0.7034961601276025 (0.007002717118540399)\n",
      "f1_macro : 0.6953564503785937 (0.007414932952613671)\n",
      "precision_macro : 0.7023554757699761 (0.008455480554763611)\n",
      "recall_macro : 0.7034107531215625 (0.006761759381732179)\n",
      "====================================================================================================\n",
      "SScaler -> PCA -> DT | Strat-KFold | Time taken : 16.14912748336792 sec \n",
      "accuracy : 0.7140185282603431 (0.015814399741557777)\n",
      "f1_macro : 0.7142903288820255 (0.015693752188004326)\n",
      "precision_macro : 0.7160333101771614 (0.015970269561517262)\n",
      "recall_macro : 0.7137331333128875 (0.015800579204579047)\n",
      "====================================================================================================\n",
      "SScaler -> PCA -> SVM | Strat-KFold | Time taken : 62.769031047821045 sec \n",
      "accuracy : 0.6960370405526365 (0.0074791318976181595)\n",
      "f1_macro : 0.6847543078244565 (0.007538565842992379)\n",
      "precision_macro : 0.686544447371308 (0.008096407476584723)\n",
      "recall_macro : 0.6962263717767913 (0.007717846133350915)\n",
      "====================================================================================================\n",
      "SScaler -> PCA -> RF | Strat-KFold | Time taken : 121.81745100021362 sec \n",
      "accuracy : 0.7225433820861547 (0.009486138168709898)\n",
      "f1_macro : 0.7147394298080045 (0.009522751468263984)\n",
      "precision_macro : 0.7146920615679131 (0.009935070877717927)\n",
      "recall_macro : 0.7225511230374317 (0.00952064133323981)\n",
      "====================================================================================================\n",
      "SScaler -> PCA -> XGB | Strat-KFold | Time taken : 827.2954297065735 sec \n",
      "accuracy : 0.7096878601127876 (0.015058776561923707)\n",
      "f1_macro : 0.7011719653487303 (0.015007877955697822)\n",
      "precision_macro : 0.7033459924587231 (0.016382315071980524)\n",
      "recall_macro : 0.7096772566076923 (0.015166618041493447)\n",
      "====================================================================================================\n",
      "SScaler -> PCA -> LightGBM | Strat-KFold | Time taken : 294.3668005466461 sec \n",
      "accuracy : 0.8061925427433643 (0.014570285480662085)\n",
      "f1_macro : 0.8049150934068156 (0.014738491447909162)\n",
      "precision_macro : 0.809305521133665 (0.014480571249103345)\n",
      "recall_macro : 0.8061185923849349 (0.014712939899648905)\n",
      "====================================================================================================\n",
      "SScaler -> IPCA -> KNN | Strat-KFold | Time taken : 7.711651563644409 sec \n",
      "accuracy : 0.7034961601276025 (0.007002717118540399)\n",
      "f1_macro : 0.6953564503785937 (0.007414932952613671)\n",
      "precision_macro : 0.7023554757699761 (0.008455480554763611)\n",
      "recall_macro : 0.7034107531215625 (0.006761759381732179)\n",
      "====================================================================================================\n",
      "SScaler -> IPCA -> DT | Strat-KFold | Time taken : 16.985620498657227 sec \n",
      "accuracy : 0.7098893236732546 (0.01241549105266905)\n",
      "f1_macro : 0.7105940382516277 (0.012288692929024672)\n",
      "precision_macro : 0.712909605505206 (0.012454163716649464)\n",
      "recall_macro : 0.7096059645865045 (0.012466530288198024)\n",
      "====================================================================================================\n",
      "SScaler -> IPCA -> SVM | Strat-KFold | Time taken : 65.83190822601318 sec \n",
      "accuracy : 0.6960370405526365 (0.0074791318976181595)\n",
      "f1_macro : 0.6847543078244565 (0.007538565842992379)\n",
      "precision_macro : 0.686544447371308 (0.008096407476584723)\n",
      "recall_macro : 0.6962263717767913 (0.007717846133350915)\n",
      "====================================================================================================\n",
      "SScaler -> IPCA -> RF | Strat-KFold | Time taken : 124.20741653442383 sec \n",
      "accuracy : 0.7221446687561155 (0.011528125925418681)\n",
      "f1_macro : 0.7148465760802292 (0.011904088625329707)\n",
      "precision_macro : 0.714324155259951 (0.012635855482303273)\n",
      "recall_macro : 0.7221622850633229 (0.011616666535391227)\n",
      "====================================================================================================\n",
      "SScaler -> IPCA -> XGB | Strat-KFold | Time taken : 829.4398896694183 sec \n",
      "accuracy : 0.7136845742430036 (0.012009697445762255)\n",
      "f1_macro : 0.7058483671540016 (0.011848357065776216)\n",
      "precision_macro : 0.7067726176162243 (0.012639802755275965)\n",
      "recall_macro : 0.7136490076349511 (0.01206683944738589)\n",
      "====================================================================================================\n",
      "SScaler -> IPCA -> LightGBM | Strat-KFold | Time taken : 297.4148247241974 sec \n",
      "accuracy : 0.812320148751254 (0.012540579278716603)\n",
      "f1_macro : 0.8110993495106606 (0.0127750802622582)\n",
      "precision_macro : 0.8129897214103883 (0.01324647666655776)\n",
      "recall_macro : 0.8122695749668821 (0.012598290500465976)\n",
      "====================================================================================================\n",
      "SScaler -> SPCA -> KNN | Strat-KFold | Time taken : 808.8835287094116 sec \n",
      "accuracy : 0.7033629599796318 (0.0071744588959708954)\n",
      "f1_macro : 0.6950812685562695 (0.0073862066759515154)\n",
      "precision_macro : 0.7021427882390788 (0.00843612309608007)\n",
      "recall_macro : 0.7032766003401694 (0.006919936348902005)\n",
      "====================================================================================================\n",
      "SScaler -> SPCA -> DT | Strat-KFold | Time taken : 791.4978256225586 sec \n",
      "accuracy : 0.8282381208799106 (0.009034476906060178)\n",
      "f1_macro : 0.8276861040690304 (0.009016194556193801)\n",
      "precision_macro : 0.8285431253092849 (0.00880282665841355)\n",
      "recall_macro : 0.8279463300240059 (0.00910888494010101)\n",
      "====================================================================================================\n",
      "SScaler -> SPCA -> SVM | Strat-KFold | Time taken : 846.4735825061798 sec \n",
      "accuracy : 0.6957705959010017 (0.007578864058035282)\n",
      "f1_macro : 0.684555662805909 (0.007618083131535578)\n",
      "precision_macro : 0.6862935139666047 (0.008164520670992813)\n",
      "recall_macro : 0.6959593374174451 (0.007794819655583085)\n",
      "====================================================================================================\n",
      "SScaler -> SPCA -> RF | Strat-KFold | Time taken : 876.6973016262054 sec \n",
      "accuracy : 0.9560439511697041 (0.005483753246288312)\n",
      "f1_macro : 0.955628754500189 (0.005647497085790248)\n",
      "precision_macro : 0.9563604643329257 (0.00548841443999066)\n",
      "recall_macro : 0.9558438564986919 (0.005527981197666419)\n",
      "====================================================================================================\n",
      "SScaler -> SPCA -> XGB | Strat-KFold | Time taken : 1375.6244914531708 sec \n",
      "accuracy : 0.8311673265315356 (0.010466691021051005)\n",
      "f1_macro : 0.8295014730315293 (0.010424331203739172)\n",
      "precision_macro : 0.8322276071598378 (0.010654384539553675)\n",
      "recall_macro : 0.8311010577745469 (0.010519486555238277)\n",
      "====================================================================================================\n",
      "SScaler -> SPCA -> LightGBM | Strat-KFold | Time taken : 1026.8504388332367 sec \n",
      "accuracy : 0.9591740881134726 (0.0034866964539783983)\n",
      "f1_macro : 0.9589344896563006 (0.00349256467405779)\n",
      "precision_macro : 0.9593357215949776 (0.0034958181097278214)\n",
      "recall_macro : 0.9590206095565442 (0.003495460294707888)\n",
      "====================================================================================================\n"
     ]
    }
   ],
   "source": [
    "scorings = ['accuracy', 'f1_macro', 'precision_macro', 'recall_macro']\n",
    "\n",
    "scores = {}\n",
    "\n",
    "for model_name, pipe in pipes:\n",
    "    scores[model_name] = {}\n",
    "    for cv_name, cv in cvs:\n",
    "        scores[model_name][cv_name] = {}\n",
    "\n",
    "        data = np.nan_to_num(data)\n",
    "\n",
    "        start_time = time.time()\n",
    "        n_scores = cross_validate(pipe, data, labels_encoded, cv=cv, scoring=scorings, n_jobs=-1, error_score='raise')\n",
    "        duration = time.time() - start_time\n",
    "        \n",
    "        scores[model_name][cv_name]['duration'] = duration\n",
    "        \n",
    "        print('{} | {} | Time taken : {} sec '.format(model_name, cv_name, duration))\n",
    "        \n",
    "        for scoring in scorings:\n",
    "            test_str = 'test_'+scoring\n",
    "            avg, standard_dev = mean(n_scores[test_str]), std(n_scores[test_str])\n",
    "\n",
    "            scores[model_name][cv_name][scoring] = {\n",
    "                'mean': avg,\n",
    "                'std' : standard_dev\n",
    "            }\n",
    "            print('{} : {} ({})'.format(scoring, avg, standard_dev))\n",
    "\n",
    "        print('='*100)"
   ]
  },
  {
   "cell_type": "code",
   "execution_count": null,
   "metadata": {
    "id": "E_x1OiA43ydn"
   },
   "outputs": [],
   "source": [
    "# sorted_idx = temp_pipe[2].feature_importances_.argsort()[::-1]\n",
    "# plt.barh(np.array(feature_labels)[sorted_idx], temp_pipe[2].feature_importances_[sorted_idx], figure=plt.figure(figsize=(10, 15), dpi=300))\n",
    "# plt.xlabel(\"Sparce PCA with Random Forest Feature Importance\")"
   ]
  },
  {
   "cell_type": "code",
   "execution_count": null,
   "metadata": {
    "id": "N0DSDv4t97Mh"
   },
   "outputs": [],
   "source": [
    "# plt.bar(np.array(feature_labels)[sorted_idx], temp_pipe[2].feature_importances_[sorted_idx], figure=plt.figure(figsize=(15, 10), dpi=300))\n",
    "# plt.xticks(rotation='vertical')\n",
    "# plt.xlabel(\"Sparce PCA with Random Forest Feature Importance\")"
   ]
  },
  {
   "cell_type": "markdown",
   "metadata": {
    "id": "_zb7CgxrrNKK"
   },
   "source": [
    "## Visualization"
   ]
  },
  {
   "cell_type": "code",
   "execution_count": null,
   "metadata": {
    "colab": {
     "base_uri": "https://localhost:8080/"
    },
    "id": "lmGM06M4rJ8B",
    "outputId": "623e9dc5-8d08-4f28-f1bd-cb63b3007677"
   },
   "outputs": [
    {
     "data": {
      "text/plain": [
       "{'SScaler -> PCA -> KNN': {'Strat-KFold': {'duration': 7.494536876678467,\n",
       "   'accuracy': {'mean': 0.7034961601276025, 'std': 0.007002717118540399},\n",
       "   'f1_macro': {'mean': 0.6953564503785937, 'std': 0.007414932952613671},\n",
       "   'precision_macro': {'mean': 0.7023554757699761,\n",
       "    'std': 0.008455480554763611},\n",
       "   'recall_macro': {'mean': 0.7034107531215625, 'std': 0.006761759381732179}}},\n",
       " 'SScaler -> PCA -> DT': {'Strat-KFold': {'duration': 16.14912748336792,\n",
       "   'accuracy': {'mean': 0.7140185282603431, 'std': 0.015814399741557777},\n",
       "   'f1_macro': {'mean': 0.7142903288820255, 'std': 0.015693752188004326},\n",
       "   'precision_macro': {'mean': 0.7160333101771614,\n",
       "    'std': 0.015970269561517262},\n",
       "   'recall_macro': {'mean': 0.7137331333128875, 'std': 0.015800579204579047}}},\n",
       " 'SScaler -> PCA -> SVM': {'Strat-KFold': {'duration': 62.769031047821045,\n",
       "   'accuracy': {'mean': 0.6960370405526365, 'std': 0.0074791318976181595},\n",
       "   'f1_macro': {'mean': 0.6847543078244565, 'std': 0.007538565842992379},\n",
       "   'precision_macro': {'mean': 0.686544447371308, 'std': 0.008096407476584723},\n",
       "   'recall_macro': {'mean': 0.6962263717767913, 'std': 0.007717846133350915}}},\n",
       " 'SScaler -> PCA -> RF': {'Strat-KFold': {'duration': 121.81745100021362,\n",
       "   'accuracy': {'mean': 0.7225433820861547, 'std': 0.009486138168709898},\n",
       "   'f1_macro': {'mean': 0.7147394298080045, 'std': 0.009522751468263984},\n",
       "   'precision_macro': {'mean': 0.7146920615679131,\n",
       "    'std': 0.009935070877717927},\n",
       "   'recall_macro': {'mean': 0.7225511230374317, 'std': 0.00952064133323981}}},\n",
       " 'SScaler -> PCA -> XGB': {'Strat-KFold': {'duration': 827.2954297065735,\n",
       "   'accuracy': {'mean': 0.7096878601127876, 'std': 0.015058776561923707},\n",
       "   'f1_macro': {'mean': 0.7011719653487303, 'std': 0.015007877955697822},\n",
       "   'precision_macro': {'mean': 0.7033459924587231,\n",
       "    'std': 0.016382315071980524},\n",
       "   'recall_macro': {'mean': 0.7096772566076923, 'std': 0.015166618041493447}}},\n",
       " 'SScaler -> PCA -> LightGBM': {'Strat-KFold': {'duration': 294.3668005466461,\n",
       "   'accuracy': {'mean': 0.8061925427433643, 'std': 0.014570285480662085},\n",
       "   'f1_macro': {'mean': 0.8049150934068156, 'std': 0.014738491447909162},\n",
       "   'precision_macro': {'mean': 0.809305521133665, 'std': 0.014480571249103345},\n",
       "   'recall_macro': {'mean': 0.8061185923849349, 'std': 0.014712939899648905}}},\n",
       " 'SScaler -> IPCA -> KNN': {'Strat-KFold': {'duration': 7.711651563644409,\n",
       "   'accuracy': {'mean': 0.7034961601276025, 'std': 0.007002717118540399},\n",
       "   'f1_macro': {'mean': 0.6953564503785937, 'std': 0.007414932952613671},\n",
       "   'precision_macro': {'mean': 0.7023554757699761,\n",
       "    'std': 0.008455480554763611},\n",
       "   'recall_macro': {'mean': 0.7034107531215625, 'std': 0.006761759381732179}}},\n",
       " 'SScaler -> IPCA -> DT': {'Strat-KFold': {'duration': 16.985620498657227,\n",
       "   'accuracy': {'mean': 0.7098893236732546, 'std': 0.01241549105266905},\n",
       "   'f1_macro': {'mean': 0.7105940382516277, 'std': 0.012288692929024672},\n",
       "   'precision_macro': {'mean': 0.712909605505206, 'std': 0.012454163716649464},\n",
       "   'recall_macro': {'mean': 0.7096059645865045, 'std': 0.012466530288198024}}},\n",
       " 'SScaler -> IPCA -> SVM': {'Strat-KFold': {'duration': 65.83190822601318,\n",
       "   'accuracy': {'mean': 0.6960370405526365, 'std': 0.0074791318976181595},\n",
       "   'f1_macro': {'mean': 0.6847543078244565, 'std': 0.007538565842992379},\n",
       "   'precision_macro': {'mean': 0.686544447371308, 'std': 0.008096407476584723},\n",
       "   'recall_macro': {'mean': 0.6962263717767913, 'std': 0.007717846133350915}}},\n",
       " 'SScaler -> IPCA -> RF': {'Strat-KFold': {'duration': 124.20741653442383,\n",
       "   'accuracy': {'mean': 0.7221446687561155, 'std': 0.011528125925418681},\n",
       "   'f1_macro': {'mean': 0.7148465760802292, 'std': 0.011904088625329707},\n",
       "   'precision_macro': {'mean': 0.714324155259951, 'std': 0.012635855482303273},\n",
       "   'recall_macro': {'mean': 0.7221622850633229, 'std': 0.011616666535391227}}},\n",
       " 'SScaler -> IPCA -> XGB': {'Strat-KFold': {'duration': 829.4398896694183,\n",
       "   'accuracy': {'mean': 0.7136845742430036, 'std': 0.012009697445762255},\n",
       "   'f1_macro': {'mean': 0.7058483671540016, 'std': 0.011848357065776216},\n",
       "   'precision_macro': {'mean': 0.7067726176162243,\n",
       "    'std': 0.012639802755275965},\n",
       "   'recall_macro': {'mean': 0.7136490076349511, 'std': 0.01206683944738589}}},\n",
       " 'SScaler -> IPCA -> LightGBM': {'Strat-KFold': {'duration': 297.4148247241974,\n",
       "   'accuracy': {'mean': 0.812320148751254, 'std': 0.012540579278716603},\n",
       "   'f1_macro': {'mean': 0.8110993495106606, 'std': 0.0127750802622582},\n",
       "   'precision_macro': {'mean': 0.8129897214103883, 'std': 0.01324647666655776},\n",
       "   'recall_macro': {'mean': 0.8122695749668821, 'std': 0.012598290500465976}}},\n",
       " 'SScaler -> SPCA -> KNN': {'Strat-KFold': {'duration': 808.8835287094116,\n",
       "   'accuracy': {'mean': 0.7033629599796318, 'std': 0.0071744588959708954},\n",
       "   'f1_macro': {'mean': 0.6950812685562695, 'std': 0.0073862066759515154},\n",
       "   'precision_macro': {'mean': 0.7021427882390788, 'std': 0.00843612309608007},\n",
       "   'recall_macro': {'mean': 0.7032766003401694, 'std': 0.006919936348902005}}},\n",
       " 'SScaler -> SPCA -> DT': {'Strat-KFold': {'duration': 791.4978256225586,\n",
       "   'accuracy': {'mean': 0.8282381208799106, 'std': 0.009034476906060178},\n",
       "   'f1_macro': {'mean': 0.8276861040690304, 'std': 0.009016194556193801},\n",
       "   'precision_macro': {'mean': 0.8285431253092849, 'std': 0.00880282665841355},\n",
       "   'recall_macro': {'mean': 0.8279463300240059, 'std': 0.00910888494010101}}},\n",
       " 'SScaler -> SPCA -> SVM': {'Strat-KFold': {'duration': 846.4735825061798,\n",
       "   'accuracy': {'mean': 0.6957705959010017, 'std': 0.007578864058035282},\n",
       "   'f1_macro': {'mean': 0.684555662805909, 'std': 0.007618083131535578},\n",
       "   'precision_macro': {'mean': 0.6862935139666047,\n",
       "    'std': 0.008164520670992813},\n",
       "   'recall_macro': {'mean': 0.6959593374174451, 'std': 0.007794819655583085}}},\n",
       " 'SScaler -> SPCA -> RF': {'Strat-KFold': {'duration': 876.6973016262054,\n",
       "   'accuracy': {'mean': 0.9560439511697041, 'std': 0.005483753246288312},\n",
       "   'f1_macro': {'mean': 0.955628754500189, 'std': 0.005647497085790248},\n",
       "   'precision_macro': {'mean': 0.9563604643329257, 'std': 0.00548841443999066},\n",
       "   'recall_macro': {'mean': 0.9558438564986919, 'std': 0.005527981197666419}}},\n",
       " 'SScaler -> SPCA -> XGB': {'Strat-KFold': {'duration': 1375.6244914531708,\n",
       "   'accuracy': {'mean': 0.8311673265315356, 'std': 0.010466691021051005},\n",
       "   'f1_macro': {'mean': 0.8295014730315293, 'std': 0.010424331203739172},\n",
       "   'precision_macro': {'mean': 0.8322276071598378,\n",
       "    'std': 0.010654384539553675},\n",
       "   'recall_macro': {'mean': 0.8311010577745469, 'std': 0.010519486555238277}}},\n",
       " 'SScaler -> SPCA -> LightGBM': {'Strat-KFold': {'duration': 1026.8504388332367,\n",
       "   'accuracy': {'mean': 0.9591740881134726, 'std': 0.0034866964539783983},\n",
       "   'f1_macro': {'mean': 0.9589344896563006, 'std': 0.00349256467405779},\n",
       "   'precision_macro': {'mean': 0.9593357215949776,\n",
       "    'std': 0.0034958181097278214},\n",
       "   'recall_macro': {'mean': 0.9590206095565442, 'std': 0.003495460294707888}}}}"
      ]
     },
     "execution_count": 94,
     "metadata": {},
     "output_type": "execute_result"
    }
   ],
   "source": [
    "scores"
   ]
  },
  {
   "cell_type": "code",
   "execution_count": null,
   "metadata": {
    "colab": {
     "base_uri": "https://localhost:8080/",
     "height": 613
    },
    "id": "XORcbZjQrL2c",
    "outputId": "17615e6d-58c2-4ada-a9dd-12cd03458c97"
   },
   "outputs": [
    {
     "data": {
      "text/html": [
       "\n",
       "  <div id=\"df-e309b947-d24e-4fc6-949d-0012e4f965fb\">\n",
       "    <div class=\"colab-df-container\">\n",
       "      <div>\n",
       "<style scoped>\n",
       "    .dataframe tbody tr th:only-of-type {\n",
       "        vertical-align: middle;\n",
       "    }\n",
       "\n",
       "    .dataframe tbody tr th {\n",
       "        vertical-align: top;\n",
       "    }\n",
       "\n",
       "    .dataframe thead th {\n",
       "        text-align: right;\n",
       "    }\n",
       "</style>\n",
       "<table border=\"1\" class=\"dataframe\">\n",
       "  <thead>\n",
       "    <tr style=\"text-align: right;\">\n",
       "      <th></th>\n",
       "      <th></th>\n",
       "      <th>mean</th>\n",
       "      <th>std</th>\n",
       "    </tr>\n",
       "  </thead>\n",
       "  <tbody>\n",
       "    <tr>\n",
       "      <th>SScaler -&gt; PCA -&gt; KNN</th>\n",
       "      <th>Strat-KFold</th>\n",
       "      <td>0.703496</td>\n",
       "      <td>0.007003</td>\n",
       "    </tr>\n",
       "    <tr>\n",
       "      <th>SScaler -&gt; PCA -&gt; DT</th>\n",
       "      <th>Strat-KFold</th>\n",
       "      <td>0.714019</td>\n",
       "      <td>0.015814</td>\n",
       "    </tr>\n",
       "    <tr>\n",
       "      <th>SScaler -&gt; PCA -&gt; SVM</th>\n",
       "      <th>Strat-KFold</th>\n",
       "      <td>0.696037</td>\n",
       "      <td>0.007479</td>\n",
       "    </tr>\n",
       "    <tr>\n",
       "      <th>SScaler -&gt; PCA -&gt; RF</th>\n",
       "      <th>Strat-KFold</th>\n",
       "      <td>0.722543</td>\n",
       "      <td>0.009486</td>\n",
       "    </tr>\n",
       "    <tr>\n",
       "      <th>SScaler -&gt; PCA -&gt; XGB</th>\n",
       "      <th>Strat-KFold</th>\n",
       "      <td>0.709688</td>\n",
       "      <td>0.015059</td>\n",
       "    </tr>\n",
       "    <tr>\n",
       "      <th>SScaler -&gt; PCA -&gt; LightGBM</th>\n",
       "      <th>Strat-KFold</th>\n",
       "      <td>0.806193</td>\n",
       "      <td>0.014570</td>\n",
       "    </tr>\n",
       "    <tr>\n",
       "      <th>SScaler -&gt; IPCA -&gt; KNN</th>\n",
       "      <th>Strat-KFold</th>\n",
       "      <td>0.703496</td>\n",
       "      <td>0.007003</td>\n",
       "    </tr>\n",
       "    <tr>\n",
       "      <th>SScaler -&gt; IPCA -&gt; DT</th>\n",
       "      <th>Strat-KFold</th>\n",
       "      <td>0.709889</td>\n",
       "      <td>0.012415</td>\n",
       "    </tr>\n",
       "    <tr>\n",
       "      <th>SScaler -&gt; IPCA -&gt; SVM</th>\n",
       "      <th>Strat-KFold</th>\n",
       "      <td>0.696037</td>\n",
       "      <td>0.007479</td>\n",
       "    </tr>\n",
       "    <tr>\n",
       "      <th>SScaler -&gt; IPCA -&gt; RF</th>\n",
       "      <th>Strat-KFold</th>\n",
       "      <td>0.722145</td>\n",
       "      <td>0.011528</td>\n",
       "    </tr>\n",
       "    <tr>\n",
       "      <th>SScaler -&gt; IPCA -&gt; XGB</th>\n",
       "      <th>Strat-KFold</th>\n",
       "      <td>0.713685</td>\n",
       "      <td>0.012010</td>\n",
       "    </tr>\n",
       "    <tr>\n",
       "      <th>SScaler -&gt; IPCA -&gt; LightGBM</th>\n",
       "      <th>Strat-KFold</th>\n",
       "      <td>0.812320</td>\n",
       "      <td>0.012541</td>\n",
       "    </tr>\n",
       "    <tr>\n",
       "      <th>SScaler -&gt; SPCA -&gt; KNN</th>\n",
       "      <th>Strat-KFold</th>\n",
       "      <td>0.703363</td>\n",
       "      <td>0.007174</td>\n",
       "    </tr>\n",
       "    <tr>\n",
       "      <th>SScaler -&gt; SPCA -&gt; DT</th>\n",
       "      <th>Strat-KFold</th>\n",
       "      <td>0.828238</td>\n",
       "      <td>0.009034</td>\n",
       "    </tr>\n",
       "    <tr>\n",
       "      <th>SScaler -&gt; SPCA -&gt; SVM</th>\n",
       "      <th>Strat-KFold</th>\n",
       "      <td>0.695771</td>\n",
       "      <td>0.007579</td>\n",
       "    </tr>\n",
       "    <tr>\n",
       "      <th>SScaler -&gt; SPCA -&gt; RF</th>\n",
       "      <th>Strat-KFold</th>\n",
       "      <td>0.956044</td>\n",
       "      <td>0.005484</td>\n",
       "    </tr>\n",
       "    <tr>\n",
       "      <th>SScaler -&gt; SPCA -&gt; XGB</th>\n",
       "      <th>Strat-KFold</th>\n",
       "      <td>0.831167</td>\n",
       "      <td>0.010467</td>\n",
       "    </tr>\n",
       "    <tr>\n",
       "      <th>SScaler -&gt; SPCA -&gt; LightGBM</th>\n",
       "      <th>Strat-KFold</th>\n",
       "      <td>0.959174</td>\n",
       "      <td>0.003487</td>\n",
       "    </tr>\n",
       "  </tbody>\n",
       "</table>\n",
       "</div>\n",
       "      <button class=\"colab-df-convert\" onclick=\"convertToInteractive('df-e309b947-d24e-4fc6-949d-0012e4f965fb')\"\n",
       "              title=\"Convert this dataframe to an interactive table.\"\n",
       "              style=\"display:none;\">\n",
       "        \n",
       "  <svg xmlns=\"http://www.w3.org/2000/svg\" height=\"24px\"viewBox=\"0 0 24 24\"\n",
       "       width=\"24px\">\n",
       "    <path d=\"M0 0h24v24H0V0z\" fill=\"none\"/>\n",
       "    <path d=\"M18.56 5.44l.94 2.06.94-2.06 2.06-.94-2.06-.94-.94-2.06-.94 2.06-2.06.94zm-11 1L8.5 8.5l.94-2.06 2.06-.94-2.06-.94L8.5 2.5l-.94 2.06-2.06.94zm10 10l.94 2.06.94-2.06 2.06-.94-2.06-.94-.94-2.06-.94 2.06-2.06.94z\"/><path d=\"M17.41 7.96l-1.37-1.37c-.4-.4-.92-.59-1.43-.59-.52 0-1.04.2-1.43.59L10.3 9.45l-7.72 7.72c-.78.78-.78 2.05 0 2.83L4 21.41c.39.39.9.59 1.41.59.51 0 1.02-.2 1.41-.59l7.78-7.78 2.81-2.81c.8-.78.8-2.07 0-2.86zM5.41 20L4 18.59l7.72-7.72 1.47 1.35L5.41 20z\"/>\n",
       "  </svg>\n",
       "      </button>\n",
       "      \n",
       "  <style>\n",
       "    .colab-df-container {\n",
       "      display:flex;\n",
       "      flex-wrap:wrap;\n",
       "      gap: 12px;\n",
       "    }\n",
       "\n",
       "    .colab-df-convert {\n",
       "      background-color: #E8F0FE;\n",
       "      border: none;\n",
       "      border-radius: 50%;\n",
       "      cursor: pointer;\n",
       "      display: none;\n",
       "      fill: #1967D2;\n",
       "      height: 32px;\n",
       "      padding: 0 0 0 0;\n",
       "      width: 32px;\n",
       "    }\n",
       "\n",
       "    .colab-df-convert:hover {\n",
       "      background-color: #E2EBFA;\n",
       "      box-shadow: 0px 1px 2px rgba(60, 64, 67, 0.3), 0px 1px 3px 1px rgba(60, 64, 67, 0.15);\n",
       "      fill: #174EA6;\n",
       "    }\n",
       "\n",
       "    [theme=dark] .colab-df-convert {\n",
       "      background-color: #3B4455;\n",
       "      fill: #D2E3FC;\n",
       "    }\n",
       "\n",
       "    [theme=dark] .colab-df-convert:hover {\n",
       "      background-color: #434B5C;\n",
       "      box-shadow: 0px 1px 3px 1px rgba(0, 0, 0, 0.15);\n",
       "      filter: drop-shadow(0px 1px 2px rgba(0, 0, 0, 0.3));\n",
       "      fill: #FFFFFF;\n",
       "    }\n",
       "  </style>\n",
       "\n",
       "      <script>\n",
       "        const buttonEl =\n",
       "          document.querySelector('#df-e309b947-d24e-4fc6-949d-0012e4f965fb button.colab-df-convert');\n",
       "        buttonEl.style.display =\n",
       "          google.colab.kernel.accessAllowed ? 'block' : 'none';\n",
       "\n",
       "        async function convertToInteractive(key) {\n",
       "          const element = document.querySelector('#df-e309b947-d24e-4fc6-949d-0012e4f965fb');\n",
       "          const dataTable =\n",
       "            await google.colab.kernel.invokeFunction('convertToInteractive',\n",
       "                                                     [key], {});\n",
       "          if (!dataTable) return;\n",
       "\n",
       "          const docLinkHtml = 'Like what you see? Visit the ' +\n",
       "            '<a target=\"_blank\" href=https://colab.research.google.com/notebooks/data_table.ipynb>data table notebook</a>'\n",
       "            + ' to learn more about interactive tables.';\n",
       "          element.innerHTML = '';\n",
       "          dataTable['output_type'] = 'display_data';\n",
       "          await google.colab.output.renderOutput(dataTable, element);\n",
       "          const docLink = document.createElement('div');\n",
       "          docLink.innerHTML = docLinkHtml;\n",
       "          element.appendChild(docLink);\n",
       "        }\n",
       "      </script>\n",
       "    </div>\n",
       "  </div>\n",
       "  "
      ],
      "text/plain": [
       "                                             mean       std\n",
       "SScaler -> PCA -> KNN       Strat-KFold  0.703496  0.007003\n",
       "SScaler -> PCA -> DT        Strat-KFold  0.714019  0.015814\n",
       "SScaler -> PCA -> SVM       Strat-KFold  0.696037  0.007479\n",
       "SScaler -> PCA -> RF        Strat-KFold  0.722543  0.009486\n",
       "SScaler -> PCA -> XGB       Strat-KFold  0.709688  0.015059\n",
       "SScaler -> PCA -> LightGBM  Strat-KFold  0.806193  0.014570\n",
       "SScaler -> IPCA -> KNN      Strat-KFold  0.703496  0.007003\n",
       "SScaler -> IPCA -> DT       Strat-KFold  0.709889  0.012415\n",
       "SScaler -> IPCA -> SVM      Strat-KFold  0.696037  0.007479\n",
       "SScaler -> IPCA -> RF       Strat-KFold  0.722145  0.011528\n",
       "SScaler -> IPCA -> XGB      Strat-KFold  0.713685  0.012010\n",
       "SScaler -> IPCA -> LightGBM Strat-KFold  0.812320  0.012541\n",
       "SScaler -> SPCA -> KNN      Strat-KFold  0.703363  0.007174\n",
       "SScaler -> SPCA -> DT       Strat-KFold  0.828238  0.009034\n",
       "SScaler -> SPCA -> SVM      Strat-KFold  0.695771  0.007579\n",
       "SScaler -> SPCA -> RF       Strat-KFold  0.956044  0.005484\n",
       "SScaler -> SPCA -> XGB      Strat-KFold  0.831167  0.010467\n",
       "SScaler -> SPCA -> LightGBM Strat-KFold  0.959174  0.003487"
      ]
     },
     "execution_count": 95,
     "metadata": {},
     "output_type": "execute_result"
    }
   ],
   "source": [
    "# See accuracy \n",
    "scores_dataframe = pd.DataFrame.from_dict({(i,j): scores[i][j]['accuracy']\n",
    "                           for i in scores.keys() \n",
    "                           for j in scores[i].keys()},\n",
    "                       orient='index')\n",
    "\n",
    "# scores_dataframe.insert(2, 'duration', [scores[i][j][k]['duration'] for i in scores.keys() for j in scores[i].keys() for k in scores[i][j].keys()])\n",
    "\n",
    "scores_dataframe"
   ]
  },
  {
   "cell_type": "markdown",
   "metadata": {
    "id": "d8KpBMOHYhIS"
   },
   "source": [
    "# Fit"
   ]
  },
  {
   "cell_type": "code",
   "execution_count": null,
   "metadata": {
    "id": "I6cAdCOeqzP8"
   },
   "outputs": [],
   "source": [
    "for _, pipe in pipes:\n",
    "    pipe.fit(data, labels_encoded)"
   ]
  },
  {
   "cell_type": "markdown",
   "metadata": {
    "id": "MlMXILxLVzXN"
   },
   "source": [
    "# Save"
   ]
  },
  {
   "cell_type": "code",
   "execution_count": null,
   "metadata": {
    "id": "eysxl0F0dMeH"
   },
   "outputs": [],
   "source": [
    "with open(\"/content/drive/Shareddrives/Ink/PDIoT/model_development/results_thingy_accel_gyro.json\", \"w\") as outfile:\n",
    "    json.dump(scores, outfile, indent = 4)"
   ]
  },
  {
   "cell_type": "code",
   "execution_count": null,
   "metadata": {
    "id": "l0lMEgo3rVF6"
   },
   "outputs": [],
   "source": [
    "!mkdir -p \"/content/drive/Shareddrives/Ink/PDIoT/model_development/models_thingy_accel_gyro/\""
   ]
  },
  {
   "cell_type": "code",
   "execution_count": null,
   "metadata": {
    "id": "uh4MEaUbVz4d"
   },
   "outputs": [],
   "source": [
    "for name, pipe in pipes:\n",
    "    joblib.dump(pipe, f\"/content/drive/Shareddrives/Ink/PDIoT/model_development/models_thingy_accel_gyro/{name}.joblib\")"
   ]
  }
 ],
 "metadata": {
  "colab": {
   "provenance": []
  },
  "kernelspec": {
   "display_name": "Python 3 (ipykernel)",
   "language": "python",
   "name": "python3"
  },
  "language_info": {
   "codemirror_mode": {
    "name": "ipython",
    "version": 3
   },
   "file_extension": ".py",
   "mimetype": "text/x-python",
   "name": "python",
   "nbconvert_exporter": "python",
   "pygments_lexer": "ipython3",
   "version": "3.9.7"
  }
 },
 "nbformat": 4,
 "nbformat_minor": 1
}
