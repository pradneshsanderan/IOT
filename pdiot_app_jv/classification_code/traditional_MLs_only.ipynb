{
  "nbformat": 4,
  "nbformat_minor": 0,
  "metadata": {
    "colab": {
      "provenance": []
    },
    "kernelspec": {
      "name": "python3",
      "display_name": "Python 3"
    },
    "language_info": {
      "name": "python"
    }
  },
  "cells": [
    {
      "cell_type": "markdown",
      "metadata": {
        "id": "aeCVqPEb0tKq"
      },
      "source": [
        "## Configuration"
      ]
    },
    {
      "cell_type": "code",
      "execution_count": null,
      "metadata": {
        "id": "_ALogWAE0sKT"
      },
      "outputs": [],
      "source": [
        "# Configuration\n",
        "features = ['accel_x', 'accel_y', 'accel_z', 'gyro_x', 'gyro_y', 'gyro_z']\n",
        "num_feat = len(features)\n",
        "random_seed = 10\n",
        "\n",
        "freq = 12.5 # Hz\n",
        "frame_length = 4 # sec\n",
        "overlap_percentage = 0 # recommend .5\n",
        "cutmix = False\n",
        "\n",
        "opt = 'adam' # optimizer \n",
        "ema = False\n",
        "\n",
        "epochs = 10\n",
        "\n",
        "# Calculation\n",
        "frame_size = int(freq * frame_length )\n",
        "overlap_size = int(frame_size * overlap_percentage)\n",
        "increment_size = int(frame_size * (1 - overlap_percentage))"
      ]
    },
    {
      "cell_type": "markdown",
      "metadata": {
        "id": "4m80yXmXv9Qx"
      },
      "source": [
        "## Import lib"
      ]
    },
    {
      "cell_type": "code",
      "execution_count": null,
      "metadata": {
        "id": "dbSSGkBut8DM"
      },
      "outputs": [],
      "source": [
        "import time\n",
        "import glob\n",
        "import statistics\n",
        "import os\n",
        "import json\n",
        "import joblib\n",
        "import json\n",
        "\n",
        "import numpy as np\n",
        "import scipy as sp\n",
        "import pandas as pd\n",
        "import matplotlib.pyplot as plt\n",
        "\n",
        "from numpy import mean, std\n",
        "from pathlib import Path\n",
        "\n",
        "from scipy import stats\n",
        "from scipy.io import loadmat\n",
        "from sklearn.preprocessing import MinMaxScaler, StandardScaler, LabelEncoder\n",
        "\n",
        "from sklearn.decomposition import PCA, IncrementalPCA, KernelPCA, SparsePCA, FastICA, TruncatedSVD\n",
        "from sklearn.discriminant_analysis import LinearDiscriminantAnalysis\n",
        "from sklearn.random_projection import GaussianRandomProjection, SparseRandomProjection\n",
        "\n",
        "from sklearn.model_selection import (cross_val_score, cross_validate, StratifiedKFold, \n",
        "                                      LeaveOneGroupOut, ShuffleSplit, GroupKFold,\n",
        "                                      GroupShuffleSplit, PredefinedSplit, RepeatedKFold,\n",
        "                                      KFold)\n",
        "\n",
        "# from sklearn.linear_model import LogisticRegression \n",
        "from sklearn.neighbors import KNeighborsClassifier, NeighborhoodComponentsAnalysis\n",
        "from sklearn.naive_bayes import GaussianNB\n",
        "from sklearn.svm import SVC\n",
        "from sklearn.tree import DecisionTreeClassifier\n",
        "from sklearn.ensemble import RandomForestClassifier\n",
        "from xgboost import XGBClassifier\n",
        "from lightgbm import LGBMClassifier\n",
        "\n",
        "from sklearn.pipeline import Pipeline\n"
      ]
    },
    {
      "cell_type": "markdown",
      "metadata": {
        "id": "3K9sLeFXwDYB"
      },
      "source": [
        "## Load dataset"
      ]
    },
    {
      "cell_type": "code",
      "execution_count": null,
      "metadata": {
        "colab": {
          "base_uri": "https://localhost:8080/"
        },
        "id": "oyrL2sTEM8kl",
        "outputId": "fd610530-f1cf-4b7b-b424-015054e9f49f"
      },
      "outputs": [
        {
          "output_type": "stream",
          "name": "stdout",
          "text": [
            "Mounted at /content/drive\n"
          ]
        }
      ],
      "source": [
        "from google.colab import drive\n",
        "drive.mount(\"/content/drive\", force_remount=True)"
      ]
    },
    {
      "cell_type": "code",
      "execution_count": null,
      "metadata": {
        "id": "3Ckxo3-yM5p9"
      },
      "outputs": [],
      "source": [
        "!unzip -qo '/content/drive/Shareddrives/Ink/PDIoT/training_data.zip'"
      ]
    },
    {
      "cell_type": "code",
      "execution_count": null,
      "metadata": {
        "colab": {
          "base_uri": "https://localhost:8080/"
        },
        "id": "ZdFaHv8_WdjB",
        "outputId": "1d1386a4-31d3-422a-8af6-2d66ed0efd87"
      },
      "outputs": [
        {
          "output_type": "execute_result",
          "data": {
            "text/plain": [
              "(1021,)"
            ]
          },
          "metadata": {},
          "execution_count": 5
        }
      ],
      "source": [
        "data = []\n",
        "\n",
        "dataset_folder = '/content/training_data/thingy'\n",
        "\n",
        "for subfolder in glob.glob(os.path.join(dataset_folder, '*')): # find all subfolder\n",
        "    activity = subfolder[len(dataset_folder)+1:]\n",
        "    #print(activity)\n",
        "\n",
        "\n",
        "    # for file in sorted(glob.glob(os.path.join(subfolder, '*.json')), key= lambda x: int(os.path.basename(x).split('_')[0])): # find files in numerically sorted order\n",
        "    for file in glob.glob(os.path.join(subfolder, '*.csv')):\n",
        "        # print(file)\n",
        "        # d = pd.read_csv(file, usecols=features) # take only features column\n",
        "        d = pd.read_csv(file)\n",
        "        #d = d.dropna(axis=1)\n",
        "        '''\n",
        "        # Some datasets have 25hz. Those contain gyro_x in column name\n",
        "        # skip every 1 row to reduce halve freq from 25hz -> 12hz\n",
        "        if 'gyro_x' in d: \n",
        "            original_len = len(d)\n",
        "            d = d.take(list(range(0, len(d), 2)))\n",
        "            new_len = len(d)\n",
        "\n",
        "            assert original_len == new_len * 2 or original_len + 1 == new_len * 2, (\n",
        "                    f'{file} not halved. {original_len} vs {new_len}')\n",
        "        '''\n",
        "\n",
        "        # some files have x instead of accel_x\n",
        "        if 'x' in d:\n",
        "            d.rename(columns = {'x': 'accel_x', 'y': 'accel_y', 'z': 'accel_z'}, inplace=True)\n",
        "\n",
        "        d = d.loc[:,features]\n",
        "        d[\"activity\"] = activity\n",
        "\n",
        "        # Rearrange activity column to be first\n",
        "        cols = d.columns.tolist()\n",
        "        cols = cols[-1:] + cols[:-1]\n",
        "        d = d[cols]\n",
        "\n",
        "        # Append to data as numpy arr\n",
        "        data.append(d.to_numpy())\n",
        "     \n",
        "\n",
        "data = np.array(data, dtype=object)\n",
        "data.shape\n"
      ]
    },
    {
      "cell_type": "markdown",
      "metadata": {
        "id": "N_ZakrqA0vh4"
      },
      "source": [
        "## Pre-process"
      ]
    },
    {
      "cell_type": "markdown",
      "metadata": {
        "id": "BqDtAvbZ08rG"
      },
      "source": [
        "### Generator class"
      ]
    },
    {
      "cell_type": "markdown",
      "source": [
        "Class for Generating frames from row of data"
      ],
      "metadata": {
        "id": "Yb9GRZVgC34T"
      }
    },
    {
      "cell_type": "code",
      "metadata": {
        "id": "XjJUyP6507no"
      },
      "source": [
        "class Generator:\n",
        "    def __init__(self, cutmix, scale, verbose):\n",
        "        self.cutmix = cutmix\n",
        "        self.scale = scale\n",
        "        self.verbose = verbose\n",
        "\n",
        "    def get_frames(self, data):\n",
        "        if self.cutmix:\n",
        "            return self.get_frames_cutmix(data)\n",
        "        else:\n",
        "            return self.get_frames_segment(data)\n",
        "\n",
        "    def flatten(self, df):\n",
        "        return np.asarray([record for li in df for record in li])\n",
        "        # l = []\n",
        "        # for li in df:\n",
        "        #     for record in li:\n",
        "        #         l.append(record)\n",
        "        # return np.asarray(l)\n",
        "\n",
        "    def scale_df(self, df):\n",
        "        if self.verbose:\n",
        "            print('I am scaling the df')\n",
        "        X = df[:,1:]\n",
        "        y = df[:,0].reshape(-1, 1)\n",
        "        df = np.concatenate([y, StandardScaler().fit_transform(X)], axis=1)\n",
        "        return df\n",
        "\n",
        "    # Get all frames via a continuous stream cutmix method\n",
        "    def get_frames_cutmix(self, df):\n",
        "        # Creates a Flattened copy from (N,M,3) into (X,3) \n",
        "        # where N(file), M(records in file)\n",
        "        \n",
        "        if df.ndim != 2:\n",
        "            df = self.flatten(df)\n",
        "\n",
        "        if self.scale:\n",
        "            df = self.scale_df(df)\n",
        "\n",
        "        frames = []\n",
        "        labels = []\n",
        "        for i in range(0, len(df) - frame_size, increment_size):\n",
        "            # Retrieve the most often used label in this segment\n",
        "            label = stats.mode(df[i:i + frame_size, 0])[0][0]\n",
        "            # Take all features in frame except label\n",
        "            frames.append([df[i:i + frame_size, 1:]])\n",
        "            labels.append(label)\n",
        "            \n",
        "\n",
        "        ## Bring the segments into a better shape\n",
        "        frames = np.asarray(frames, dtype=float).reshape(-1, frame_size, num_feat)\n",
        "        labels = np.asarray(labels)\n",
        "\n",
        "        return frames, labels\n",
        "\n",
        "    # Get all frames via single file segment method\n",
        "    def get_frames_segment(self, data):\n",
        "        # Get single frame of a file\n",
        "        def get_frame(li):\n",
        "            frames = []\n",
        "            labels = []\n",
        "            li = np.asarray(li)\n",
        "            for i in range(0, len(li) - frame_size, increment_size):\n",
        "                frames.append(li[i:i+frame_size, 1:])\n",
        "                labels.append(li[i, 0])\n",
        "            return frames, labels\n",
        "\n",
        "\n",
        "        frames, labels = [], []\n",
        "        for li in data:\n",
        "            f, l = get_frame(li)\n",
        "            frames.extend(f)\n",
        "            labels.extend(l)\n",
        "\n",
        "        frames = np.asarray(frames, dtype=float).reshape(-1, frame_size, num_feat)\n",
        "        labels = np.asarray(labels)\n",
        "        return frames, labels"
      ],
      "execution_count": null,
      "outputs": []
    },
    {
      "cell_type": "markdown",
      "metadata": {
        "id": "HLJXgkF_1Qab"
      },
      "source": [
        "### Get frames"
      ]
    },
    {
      "cell_type": "code",
      "metadata": {
        "id": "26_TObM81Nu0"
      },
      "source": [
        "generator = Generator(cutmix=cutmix, scale=False, verbose=True)\n",
        "df, labels = generator.get_frames(data=data)"
      ],
      "execution_count": null,
      "outputs": []
    },
    {
      "cell_type": "code",
      "metadata": {
        "colab": {
          "base_uri": "https://localhost:8080/"
        },
        "id": "JXxC65jb1zjY",
        "outputId": "1c39a172-c733-4fc7-ee22-ecb4d7a204b3"
      },
      "source": [
        "df.shape"
      ],
      "execution_count": null,
      "outputs": [
        {
          "output_type": "execute_result",
          "data": {
            "text/plain": [
              "(15015, 50, 6)"
            ]
          },
          "metadata": {},
          "execution_count": 8
        }
      ]
    },
    {
      "cell_type": "code",
      "source": [
        "np.unique(labels,return_counts=True)"
      ],
      "metadata": {
        "colab": {
          "base_uri": "https://localhost:8080/"
        },
        "id": "Tl9mhBhMt6XZ",
        "outputId": "66ec026d-5db3-4962-eeb5-877f96329d20"
      },
      "execution_count": null,
      "outputs": [
        {
          "output_type": "execute_result",
          "data": {
            "text/plain": [
              "(array(['ascending_stairs', 'descending_stairs', 'desk_work',\n",
              "        'lying_on_back', 'lying_on_left_side', 'lying_on_right_side',\n",
              "        'lying_on_stomach', 'movement', 'running', 'sitting',\n",
              "        'sitting_bent_backward', 'sitting_bent_forward', 'standing',\n",
              "        'walking'], dtype='<U21'),\n",
              " array([1069, 1068, 1075, 1076, 1073, 1073, 1077, 1058, 1074, 1076, 1074,\n",
              "        1072, 1074, 1076]))"
            ]
          },
          "metadata": {},
          "execution_count": 9
        }
      ]
    },
    {
      "cell_type": "code",
      "source": [
        "pd.DataFrame(labels)"
      ],
      "metadata": {
        "colab": {
          "base_uri": "https://localhost:8080/",
          "height": 423
        },
        "id": "xiEabaKJtbpy",
        "outputId": "b8e911ad-b09a-400a-8dcf-c80f4acf73fd"
      },
      "execution_count": null,
      "outputs": [
        {
          "output_type": "execute_result",
          "data": {
            "text/plain": [
              "                      0\n",
              "0      ascending_stairs\n",
              "1      ascending_stairs\n",
              "2      ascending_stairs\n",
              "3      ascending_stairs\n",
              "4      ascending_stairs\n",
              "...                 ...\n",
              "15010          standing\n",
              "15011          standing\n",
              "15012          standing\n",
              "15013          standing\n",
              "15014          standing\n",
              "\n",
              "[15015 rows x 1 columns]"
            ],
            "text/html": [
              "\n",
              "  <div id=\"df-7b53ce76-ec75-4c94-98a5-050f6804399a\">\n",
              "    <div class=\"colab-df-container\">\n",
              "      <div>\n",
              "<style scoped>\n",
              "    .dataframe tbody tr th:only-of-type {\n",
              "        vertical-align: middle;\n",
              "    }\n",
              "\n",
              "    .dataframe tbody tr th {\n",
              "        vertical-align: top;\n",
              "    }\n",
              "\n",
              "    .dataframe thead th {\n",
              "        text-align: right;\n",
              "    }\n",
              "</style>\n",
              "<table border=\"1\" class=\"dataframe\">\n",
              "  <thead>\n",
              "    <tr style=\"text-align: right;\">\n",
              "      <th></th>\n",
              "      <th>0</th>\n",
              "    </tr>\n",
              "  </thead>\n",
              "  <tbody>\n",
              "    <tr>\n",
              "      <th>0</th>\n",
              "      <td>ascending_stairs</td>\n",
              "    </tr>\n",
              "    <tr>\n",
              "      <th>1</th>\n",
              "      <td>ascending_stairs</td>\n",
              "    </tr>\n",
              "    <tr>\n",
              "      <th>2</th>\n",
              "      <td>ascending_stairs</td>\n",
              "    </tr>\n",
              "    <tr>\n",
              "      <th>3</th>\n",
              "      <td>ascending_stairs</td>\n",
              "    </tr>\n",
              "    <tr>\n",
              "      <th>4</th>\n",
              "      <td>ascending_stairs</td>\n",
              "    </tr>\n",
              "    <tr>\n",
              "      <th>...</th>\n",
              "      <td>...</td>\n",
              "    </tr>\n",
              "    <tr>\n",
              "      <th>15010</th>\n",
              "      <td>standing</td>\n",
              "    </tr>\n",
              "    <tr>\n",
              "      <th>15011</th>\n",
              "      <td>standing</td>\n",
              "    </tr>\n",
              "    <tr>\n",
              "      <th>15012</th>\n",
              "      <td>standing</td>\n",
              "    </tr>\n",
              "    <tr>\n",
              "      <th>15013</th>\n",
              "      <td>standing</td>\n",
              "    </tr>\n",
              "    <tr>\n",
              "      <th>15014</th>\n",
              "      <td>standing</td>\n",
              "    </tr>\n",
              "  </tbody>\n",
              "</table>\n",
              "<p>15015 rows × 1 columns</p>\n",
              "</div>\n",
              "      <button class=\"colab-df-convert\" onclick=\"convertToInteractive('df-7b53ce76-ec75-4c94-98a5-050f6804399a')\"\n",
              "              title=\"Convert this dataframe to an interactive table.\"\n",
              "              style=\"display:none;\">\n",
              "        \n",
              "  <svg xmlns=\"http://www.w3.org/2000/svg\" height=\"24px\"viewBox=\"0 0 24 24\"\n",
              "       width=\"24px\">\n",
              "    <path d=\"M0 0h24v24H0V0z\" fill=\"none\"/>\n",
              "    <path d=\"M18.56 5.44l.94 2.06.94-2.06 2.06-.94-2.06-.94-.94-2.06-.94 2.06-2.06.94zm-11 1L8.5 8.5l.94-2.06 2.06-.94-2.06-.94L8.5 2.5l-.94 2.06-2.06.94zm10 10l.94 2.06.94-2.06 2.06-.94-2.06-.94-.94-2.06-.94 2.06-2.06.94z\"/><path d=\"M17.41 7.96l-1.37-1.37c-.4-.4-.92-.59-1.43-.59-.52 0-1.04.2-1.43.59L10.3 9.45l-7.72 7.72c-.78.78-.78 2.05 0 2.83L4 21.41c.39.39.9.59 1.41.59.51 0 1.02-.2 1.41-.59l7.78-7.78 2.81-2.81c.8-.78.8-2.07 0-2.86zM5.41 20L4 18.59l7.72-7.72 1.47 1.35L5.41 20z\"/>\n",
              "  </svg>\n",
              "      </button>\n",
              "      \n",
              "  <style>\n",
              "    .colab-df-container {\n",
              "      display:flex;\n",
              "      flex-wrap:wrap;\n",
              "      gap: 12px;\n",
              "    }\n",
              "\n",
              "    .colab-df-convert {\n",
              "      background-color: #E8F0FE;\n",
              "      border: none;\n",
              "      border-radius: 50%;\n",
              "      cursor: pointer;\n",
              "      display: none;\n",
              "      fill: #1967D2;\n",
              "      height: 32px;\n",
              "      padding: 0 0 0 0;\n",
              "      width: 32px;\n",
              "    }\n",
              "\n",
              "    .colab-df-convert:hover {\n",
              "      background-color: #E2EBFA;\n",
              "      box-shadow: 0px 1px 2px rgba(60, 64, 67, 0.3), 0px 1px 3px 1px rgba(60, 64, 67, 0.15);\n",
              "      fill: #174EA6;\n",
              "    }\n",
              "\n",
              "    [theme=dark] .colab-df-convert {\n",
              "      background-color: #3B4455;\n",
              "      fill: #D2E3FC;\n",
              "    }\n",
              "\n",
              "    [theme=dark] .colab-df-convert:hover {\n",
              "      background-color: #434B5C;\n",
              "      box-shadow: 0px 1px 3px 1px rgba(0, 0, 0, 0.15);\n",
              "      filter: drop-shadow(0px 1px 2px rgba(0, 0, 0, 0.3));\n",
              "      fill: #FFFFFF;\n",
              "    }\n",
              "  </style>\n",
              "\n",
              "      <script>\n",
              "        const buttonEl =\n",
              "          document.querySelector('#df-7b53ce76-ec75-4c94-98a5-050f6804399a button.colab-df-convert');\n",
              "        buttonEl.style.display =\n",
              "          google.colab.kernel.accessAllowed ? 'block' : 'none';\n",
              "\n",
              "        async function convertToInteractive(key) {\n",
              "          const element = document.querySelector('#df-7b53ce76-ec75-4c94-98a5-050f6804399a');\n",
              "          const dataTable =\n",
              "            await google.colab.kernel.invokeFunction('convertToInteractive',\n",
              "                                                     [key], {});\n",
              "          if (!dataTable) return;\n",
              "\n",
              "          const docLinkHtml = 'Like what you see? Visit the ' +\n",
              "            '<a target=\"_blank\" href=https://colab.research.google.com/notebooks/data_table.ipynb>data table notebook</a>'\n",
              "            + ' to learn more about interactive tables.';\n",
              "          element.innerHTML = '';\n",
              "          dataTable['output_type'] = 'display_data';\n",
              "          await google.colab.output.renderOutput(dataTable, element);\n",
              "          const docLink = document.createElement('div');\n",
              "          docLink.innerHTML = docLinkHtml;\n",
              "          element.appendChild(docLink);\n",
              "        }\n",
              "      </script>\n",
              "    </div>\n",
              "  </div>\n",
              "  "
            ]
          },
          "metadata": {},
          "execution_count": 10
        }
      ]
    },
    {
      "cell_type": "markdown",
      "metadata": {
        "id": "ydinB6oRQ907"
      },
      "source": [
        "### Labels Encoding"
      ]
    },
    {
      "cell_type": "markdown",
      "source": [
        "Fit labels to LabelEncoder to create encoding"
      ],
      "metadata": {
        "id": "XzHfgThnDPSk"
      }
    },
    {
      "cell_type": "code",
      "metadata": {
        "id": "dvIWyRH_RAIW",
        "colab": {
          "base_uri": "https://localhost:8080/"
        },
        "outputId": "e9920b95-19be-41ae-abb8-0d84f25f1b83"
      },
      "source": [
        "encoder = LabelEncoder()\n",
        "labels_encoded = encoder.fit_transform(labels)\n",
        "encoder.classes_"
      ],
      "execution_count": null,
      "outputs": [
        {
          "output_type": "execute_result",
          "data": {
            "text/plain": [
              "array(['ascending_stairs', 'descending_stairs', 'desk_work',\n",
              "       'lying_on_back', 'lying_on_left_side', 'lying_on_right_side',\n",
              "       'lying_on_stomach', 'movement', 'running', 'sitting',\n",
              "       'sitting_bent_backward', 'sitting_bent_forward', 'standing',\n",
              "       'walking'], dtype='<U21')"
            ]
          },
          "metadata": {},
          "execution_count": 11
        }
      ]
    },
    {
      "cell_type": "code",
      "source": [
        "# Get dict that maps index to name\n",
        "# Useful for prediction to map results back to text\n",
        "temp = {}\n",
        "for i, val in enumerate(encoder.classes_):\n",
        "    temp[i] = val\n",
        "\n",
        "print(temp)"
      ],
      "metadata": {
        "colab": {
          "base_uri": "https://localhost:8080/"
        },
        "id": "DXopCk2549bZ",
        "outputId": "3bdeaaf6-61ea-4348-e7c5-029c9cdc5f61"
      },
      "execution_count": null,
      "outputs": [
        {
          "output_type": "stream",
          "name": "stdout",
          "text": [
            "{0: 'ascending_stairs', 1: 'descending_stairs', 2: 'desk_work', 3: 'lying_on_back', 4: 'lying_on_left_side', 5: 'lying_on_right_side', 6: 'lying_on_stomach', 7: 'movement', 8: 'running', 9: 'sitting', 10: 'sitting_bent_backward', 11: 'sitting_bent_forward', 12: 'standing', 13: 'walking'}\n"
          ]
        }
      ]
    },
    {
      "cell_type": "markdown",
      "metadata": {
        "id": "i463Bobe0JyS"
      },
      "source": [
        "## Feature Extraction"
      ]
    },
    {
      "cell_type": "markdown",
      "source": [
        "Extract each frames' feature"
      ],
      "metadata": {
        "id": "9kydGo8fDS0_"
      }
    },
    {
      "cell_type": "code",
      "metadata": {
        "id": "zJQ8lzzu39Y9"
      },
      "source": [
        "def feat_extr(signal):\n",
        "    list_feat = []\n",
        "\n",
        "    for i in range(num_feat):\n",
        "        mean_s = stats.tmean(signal[:,i])\n",
        "        median_s = statistics.median(signal[:,i])\n",
        "        mode_s = stats.mode(signal[:,i])[0][0]\n",
        "        stdev_s = stats.tstd(signal[:,i])\n",
        "        max_s = stats.tmax(signal[:,i])    \n",
        "        min_s = stats.tmin(signal[:,i])    \n",
        "        range_s = max_s - min_s\n",
        "        skew_s = stats.skew(signal[:,i])\n",
        "        kurt_s = stats.kurtosis(signal[:,i])\n",
        "        p10_s = np.percentile(signal[:,i], 10)\n",
        "        p25_s = np.percentile(signal[:,i], 25)\n",
        "        p50_s = np.percentile(signal[:,i], 50)\n",
        "        p75_s = np.percentile(signal[:,i], 75)\n",
        "        p90_s = np.percentile(signal[:,i], 90)\n",
        " \n",
        "        list_feat.extend([mean_s, median_s, mode_s, stdev_s, max_s, min_s, range_s, skew_s, kurt_s, \n",
        "                            p10_s, p25_s, p50_s, p75_s, p90_s])\n",
        "    \n",
        "    return np.array(list_feat)"
      ],
      "execution_count": null,
      "outputs": []
    },
    {
      "cell_type": "code",
      "metadata": {
        "colab": {
          "base_uri": "https://localhost:8080/"
        },
        "id": "02G3hoCh1q5I",
        "outputId": "757799be-25ec-4d4e-886c-f7b227526176"
      },
      "source": [
        "data = []\n",
        "\n",
        "for frame in df:\n",
        "    data.append(feat_extr(frame))\n",
        "\n",
        "data = np.array(data)\n",
        "data.shape     "
      ],
      "execution_count": null,
      "outputs": [
        {
          "output_type": "execute_result",
          "data": {
            "text/plain": [
              "(15015, 84)"
            ]
          },
          "metadata": {},
          "execution_count": 14
        }
      ]
    },
    {
      "cell_type": "markdown",
      "source": [
        "Add column name"
      ],
      "metadata": {
        "id": "7tKOEMzlDV_2"
      }
    },
    {
      "cell_type": "code",
      "metadata": {
        "colab": {
          "base_uri": "https://localhost:8080/",
          "height": 487
        },
        "id": "59WepEZR3ZRa",
        "outputId": "87bb5221-81cb-44f3-cd0f-8839cacf5849"
      },
      "source": [
        "feature_labels = []\n",
        "\n",
        "for feat in features:\n",
        "    for sub_feat in ['_mean', '_median', '_mode', '_stdev', '_max', \n",
        "                      '_min', '_range', '_skew', '_kurt', '_p10', \n",
        "                      '_p25', '_p50', '_p75', '_p90']:\n",
        "        feature_labels.append(feat + sub_feat)\n",
        "\n",
        "pd.DataFrame(data, columns = feature_labels)"
      ],
      "execution_count": null,
      "outputs": [
        {
          "output_type": "execute_result",
          "data": {
            "text/plain": [
              "       accel_x_mean  accel_x_median  accel_x_mode  accel_x_stdev  accel_x_max  \\\n",
              "0         -0.887891       -0.925293     -0.579102       0.448219    -0.037109   \n",
              "1         -0.949336       -0.958008     -1.144531       0.397264    -0.129883   \n",
              "2         -1.011953       -1.020508     -1.291992       0.357246     0.036133   \n",
              "3         -0.905059       -0.931152     -0.894531       0.398221    -0.153320   \n",
              "4         -0.931484       -0.923828     -0.907227       0.424610    -0.047852   \n",
              "...             ...             ...           ...            ...          ...   \n",
              "15010     -1.004082       -1.003906     -1.003906       0.005289    -0.992188   \n",
              "15011     -1.004336       -1.003906     -1.003906       0.005119    -0.994141   \n",
              "15012     -1.005801       -1.006348     -1.006836       0.006836    -0.990234   \n",
              "15013     -1.003848       -1.003906     -1.004883       0.004965    -0.993164   \n",
              "15014     -1.005195       -1.005859     -1.006836       0.005394    -0.995117   \n",
              "\n",
              "       accel_x_min  accel_x_range  accel_x_skew  accel_x_kurt  accel_x_p10  \\\n",
              "0        -2.000000       1.962891      0.011039     -0.348469    -1.395215   \n",
              "1        -1.756836       1.626953      0.172735     -0.595560    -1.462988   \n",
              "2        -1.704102       1.740234      0.773741      0.747849    -1.435547   \n",
              "3        -2.000000       1.846680     -0.087719     -0.012902    -1.338086   \n",
              "4        -2.000000       1.952148      0.099267     -0.282570    -1.386816   \n",
              "...            ...            ...           ...           ...          ...   \n",
              "15010    -1.014648       0.022461      0.104253     -0.356464    -1.010742   \n",
              "15011    -1.014648       0.020508      0.153073     -0.636391    -1.010742   \n",
              "15012    -1.023438       0.033203     -0.107668     -0.056952    -1.013672   \n",
              "15013    -1.013672       0.020508      0.259218     -0.425809    -1.009766   \n",
              "15014    -1.021484       0.026367     -0.329752      0.303303    -1.010840   \n",
              "\n",
              "       ...  gyro_z_max  gyro_z_min  gyro_z_range  gyro_z_skew  gyro_z_kurt  \\\n",
              "0      ...    63.21875   -82.34375     145.56250    -0.101162    -0.486114   \n",
              "1      ...    56.81250   -77.40625     134.21875    -0.492980    -0.433414   \n",
              "2      ...    62.59375   -83.37500     145.96875    -0.506405    -0.542617   \n",
              "3      ...    50.03125   -81.31250     131.34375    -0.838105     0.722746   \n",
              "4      ...    50.81250   -82.71875     133.53125    -0.348371    -0.372128   \n",
              "...    ...         ...         ...           ...          ...          ...   \n",
              "15010  ...     0.68750    -2.28125       2.96875    -0.571458     1.522129   \n",
              "15011  ...     1.12500    -1.18750       2.31250     0.800126    -0.079424   \n",
              "15012  ...     0.81250    -1.81250       2.62500    -0.081798    -0.050535   \n",
              "15013  ...    -0.03125    -1.62500       1.59375    -0.869127     0.507550   \n",
              "15014  ...     0.46875    -0.81250       1.28125    -0.182641    -0.666653   \n",
              "\n",
              "       gyro_z_p10  gyro_z_p25  gyro_z_p50  gyro_z_p75  gyro_z_p90  \n",
              "0      -45.675000  -25.257812   -4.312500   18.164062   49.950000  \n",
              "1      -61.753125  -27.367188    1.031250   11.945312   24.721875  \n",
              "2      -66.928125  -24.703125    6.984375   22.953125   43.184375  \n",
              "3      -27.934375  -10.546875    8.437500   25.398438   42.115625  \n",
              "4      -56.143750  -23.070312   -4.406250   10.960938   32.725000  \n",
              "...           ...         ...         ...         ...         ...  \n",
              "15010   -1.187500   -0.781250   -0.468750   -0.343750   -0.062500  \n",
              "15011   -0.881250   -0.734375   -0.500000   -0.062500    0.481250  \n",
              "15012   -1.187500   -0.750000   -0.500000   -0.046875    0.218750  \n",
              "15013   -1.062500   -0.687500   -0.468750   -0.281250   -0.093750  \n",
              "15014   -0.659375   -0.406250   -0.156250    0.031250    0.225000  \n",
              "\n",
              "[15015 rows x 84 columns]"
            ],
            "text/html": [
              "\n",
              "  <div id=\"df-7dcea3de-4cf7-4199-8ffa-4ec122a4118d\">\n",
              "    <div class=\"colab-df-container\">\n",
              "      <div>\n",
              "<style scoped>\n",
              "    .dataframe tbody tr th:only-of-type {\n",
              "        vertical-align: middle;\n",
              "    }\n",
              "\n",
              "    .dataframe tbody tr th {\n",
              "        vertical-align: top;\n",
              "    }\n",
              "\n",
              "    .dataframe thead th {\n",
              "        text-align: right;\n",
              "    }\n",
              "</style>\n",
              "<table border=\"1\" class=\"dataframe\">\n",
              "  <thead>\n",
              "    <tr style=\"text-align: right;\">\n",
              "      <th></th>\n",
              "      <th>accel_x_mean</th>\n",
              "      <th>accel_x_median</th>\n",
              "      <th>accel_x_mode</th>\n",
              "      <th>accel_x_stdev</th>\n",
              "      <th>accel_x_max</th>\n",
              "      <th>accel_x_min</th>\n",
              "      <th>accel_x_range</th>\n",
              "      <th>accel_x_skew</th>\n",
              "      <th>accel_x_kurt</th>\n",
              "      <th>accel_x_p10</th>\n",
              "      <th>...</th>\n",
              "      <th>gyro_z_max</th>\n",
              "      <th>gyro_z_min</th>\n",
              "      <th>gyro_z_range</th>\n",
              "      <th>gyro_z_skew</th>\n",
              "      <th>gyro_z_kurt</th>\n",
              "      <th>gyro_z_p10</th>\n",
              "      <th>gyro_z_p25</th>\n",
              "      <th>gyro_z_p50</th>\n",
              "      <th>gyro_z_p75</th>\n",
              "      <th>gyro_z_p90</th>\n",
              "    </tr>\n",
              "  </thead>\n",
              "  <tbody>\n",
              "    <tr>\n",
              "      <th>0</th>\n",
              "      <td>-0.887891</td>\n",
              "      <td>-0.925293</td>\n",
              "      <td>-0.579102</td>\n",
              "      <td>0.448219</td>\n",
              "      <td>-0.037109</td>\n",
              "      <td>-2.000000</td>\n",
              "      <td>1.962891</td>\n",
              "      <td>0.011039</td>\n",
              "      <td>-0.348469</td>\n",
              "      <td>-1.395215</td>\n",
              "      <td>...</td>\n",
              "      <td>63.21875</td>\n",
              "      <td>-82.34375</td>\n",
              "      <td>145.56250</td>\n",
              "      <td>-0.101162</td>\n",
              "      <td>-0.486114</td>\n",
              "      <td>-45.675000</td>\n",
              "      <td>-25.257812</td>\n",
              "      <td>-4.312500</td>\n",
              "      <td>18.164062</td>\n",
              "      <td>49.950000</td>\n",
              "    </tr>\n",
              "    <tr>\n",
              "      <th>1</th>\n",
              "      <td>-0.949336</td>\n",
              "      <td>-0.958008</td>\n",
              "      <td>-1.144531</td>\n",
              "      <td>0.397264</td>\n",
              "      <td>-0.129883</td>\n",
              "      <td>-1.756836</td>\n",
              "      <td>1.626953</td>\n",
              "      <td>0.172735</td>\n",
              "      <td>-0.595560</td>\n",
              "      <td>-1.462988</td>\n",
              "      <td>...</td>\n",
              "      <td>56.81250</td>\n",
              "      <td>-77.40625</td>\n",
              "      <td>134.21875</td>\n",
              "      <td>-0.492980</td>\n",
              "      <td>-0.433414</td>\n",
              "      <td>-61.753125</td>\n",
              "      <td>-27.367188</td>\n",
              "      <td>1.031250</td>\n",
              "      <td>11.945312</td>\n",
              "      <td>24.721875</td>\n",
              "    </tr>\n",
              "    <tr>\n",
              "      <th>2</th>\n",
              "      <td>-1.011953</td>\n",
              "      <td>-1.020508</td>\n",
              "      <td>-1.291992</td>\n",
              "      <td>0.357246</td>\n",
              "      <td>0.036133</td>\n",
              "      <td>-1.704102</td>\n",
              "      <td>1.740234</td>\n",
              "      <td>0.773741</td>\n",
              "      <td>0.747849</td>\n",
              "      <td>-1.435547</td>\n",
              "      <td>...</td>\n",
              "      <td>62.59375</td>\n",
              "      <td>-83.37500</td>\n",
              "      <td>145.96875</td>\n",
              "      <td>-0.506405</td>\n",
              "      <td>-0.542617</td>\n",
              "      <td>-66.928125</td>\n",
              "      <td>-24.703125</td>\n",
              "      <td>6.984375</td>\n",
              "      <td>22.953125</td>\n",
              "      <td>43.184375</td>\n",
              "    </tr>\n",
              "    <tr>\n",
              "      <th>3</th>\n",
              "      <td>-0.905059</td>\n",
              "      <td>-0.931152</td>\n",
              "      <td>-0.894531</td>\n",
              "      <td>0.398221</td>\n",
              "      <td>-0.153320</td>\n",
              "      <td>-2.000000</td>\n",
              "      <td>1.846680</td>\n",
              "      <td>-0.087719</td>\n",
              "      <td>-0.012902</td>\n",
              "      <td>-1.338086</td>\n",
              "      <td>...</td>\n",
              "      <td>50.03125</td>\n",
              "      <td>-81.31250</td>\n",
              "      <td>131.34375</td>\n",
              "      <td>-0.838105</td>\n",
              "      <td>0.722746</td>\n",
              "      <td>-27.934375</td>\n",
              "      <td>-10.546875</td>\n",
              "      <td>8.437500</td>\n",
              "      <td>25.398438</td>\n",
              "      <td>42.115625</td>\n",
              "    </tr>\n",
              "    <tr>\n",
              "      <th>4</th>\n",
              "      <td>-0.931484</td>\n",
              "      <td>-0.923828</td>\n",
              "      <td>-0.907227</td>\n",
              "      <td>0.424610</td>\n",
              "      <td>-0.047852</td>\n",
              "      <td>-2.000000</td>\n",
              "      <td>1.952148</td>\n",
              "      <td>0.099267</td>\n",
              "      <td>-0.282570</td>\n",
              "      <td>-1.386816</td>\n",
              "      <td>...</td>\n",
              "      <td>50.81250</td>\n",
              "      <td>-82.71875</td>\n",
              "      <td>133.53125</td>\n",
              "      <td>-0.348371</td>\n",
              "      <td>-0.372128</td>\n",
              "      <td>-56.143750</td>\n",
              "      <td>-23.070312</td>\n",
              "      <td>-4.406250</td>\n",
              "      <td>10.960938</td>\n",
              "      <td>32.725000</td>\n",
              "    </tr>\n",
              "    <tr>\n",
              "      <th>...</th>\n",
              "      <td>...</td>\n",
              "      <td>...</td>\n",
              "      <td>...</td>\n",
              "      <td>...</td>\n",
              "      <td>...</td>\n",
              "      <td>...</td>\n",
              "      <td>...</td>\n",
              "      <td>...</td>\n",
              "      <td>...</td>\n",
              "      <td>...</td>\n",
              "      <td>...</td>\n",
              "      <td>...</td>\n",
              "      <td>...</td>\n",
              "      <td>...</td>\n",
              "      <td>...</td>\n",
              "      <td>...</td>\n",
              "      <td>...</td>\n",
              "      <td>...</td>\n",
              "      <td>...</td>\n",
              "      <td>...</td>\n",
              "      <td>...</td>\n",
              "    </tr>\n",
              "    <tr>\n",
              "      <th>15010</th>\n",
              "      <td>-1.004082</td>\n",
              "      <td>-1.003906</td>\n",
              "      <td>-1.003906</td>\n",
              "      <td>0.005289</td>\n",
              "      <td>-0.992188</td>\n",
              "      <td>-1.014648</td>\n",
              "      <td>0.022461</td>\n",
              "      <td>0.104253</td>\n",
              "      <td>-0.356464</td>\n",
              "      <td>-1.010742</td>\n",
              "      <td>...</td>\n",
              "      <td>0.68750</td>\n",
              "      <td>-2.28125</td>\n",
              "      <td>2.96875</td>\n",
              "      <td>-0.571458</td>\n",
              "      <td>1.522129</td>\n",
              "      <td>-1.187500</td>\n",
              "      <td>-0.781250</td>\n",
              "      <td>-0.468750</td>\n",
              "      <td>-0.343750</td>\n",
              "      <td>-0.062500</td>\n",
              "    </tr>\n",
              "    <tr>\n",
              "      <th>15011</th>\n",
              "      <td>-1.004336</td>\n",
              "      <td>-1.003906</td>\n",
              "      <td>-1.003906</td>\n",
              "      <td>0.005119</td>\n",
              "      <td>-0.994141</td>\n",
              "      <td>-1.014648</td>\n",
              "      <td>0.020508</td>\n",
              "      <td>0.153073</td>\n",
              "      <td>-0.636391</td>\n",
              "      <td>-1.010742</td>\n",
              "      <td>...</td>\n",
              "      <td>1.12500</td>\n",
              "      <td>-1.18750</td>\n",
              "      <td>2.31250</td>\n",
              "      <td>0.800126</td>\n",
              "      <td>-0.079424</td>\n",
              "      <td>-0.881250</td>\n",
              "      <td>-0.734375</td>\n",
              "      <td>-0.500000</td>\n",
              "      <td>-0.062500</td>\n",
              "      <td>0.481250</td>\n",
              "    </tr>\n",
              "    <tr>\n",
              "      <th>15012</th>\n",
              "      <td>-1.005801</td>\n",
              "      <td>-1.006348</td>\n",
              "      <td>-1.006836</td>\n",
              "      <td>0.006836</td>\n",
              "      <td>-0.990234</td>\n",
              "      <td>-1.023438</td>\n",
              "      <td>0.033203</td>\n",
              "      <td>-0.107668</td>\n",
              "      <td>-0.056952</td>\n",
              "      <td>-1.013672</td>\n",
              "      <td>...</td>\n",
              "      <td>0.81250</td>\n",
              "      <td>-1.81250</td>\n",
              "      <td>2.62500</td>\n",
              "      <td>-0.081798</td>\n",
              "      <td>-0.050535</td>\n",
              "      <td>-1.187500</td>\n",
              "      <td>-0.750000</td>\n",
              "      <td>-0.500000</td>\n",
              "      <td>-0.046875</td>\n",
              "      <td>0.218750</td>\n",
              "    </tr>\n",
              "    <tr>\n",
              "      <th>15013</th>\n",
              "      <td>-1.003848</td>\n",
              "      <td>-1.003906</td>\n",
              "      <td>-1.004883</td>\n",
              "      <td>0.004965</td>\n",
              "      <td>-0.993164</td>\n",
              "      <td>-1.013672</td>\n",
              "      <td>0.020508</td>\n",
              "      <td>0.259218</td>\n",
              "      <td>-0.425809</td>\n",
              "      <td>-1.009766</td>\n",
              "      <td>...</td>\n",
              "      <td>-0.03125</td>\n",
              "      <td>-1.62500</td>\n",
              "      <td>1.59375</td>\n",
              "      <td>-0.869127</td>\n",
              "      <td>0.507550</td>\n",
              "      <td>-1.062500</td>\n",
              "      <td>-0.687500</td>\n",
              "      <td>-0.468750</td>\n",
              "      <td>-0.281250</td>\n",
              "      <td>-0.093750</td>\n",
              "    </tr>\n",
              "    <tr>\n",
              "      <th>15014</th>\n",
              "      <td>-1.005195</td>\n",
              "      <td>-1.005859</td>\n",
              "      <td>-1.006836</td>\n",
              "      <td>0.005394</td>\n",
              "      <td>-0.995117</td>\n",
              "      <td>-1.021484</td>\n",
              "      <td>0.026367</td>\n",
              "      <td>-0.329752</td>\n",
              "      <td>0.303303</td>\n",
              "      <td>-1.010840</td>\n",
              "      <td>...</td>\n",
              "      <td>0.46875</td>\n",
              "      <td>-0.81250</td>\n",
              "      <td>1.28125</td>\n",
              "      <td>-0.182641</td>\n",
              "      <td>-0.666653</td>\n",
              "      <td>-0.659375</td>\n",
              "      <td>-0.406250</td>\n",
              "      <td>-0.156250</td>\n",
              "      <td>0.031250</td>\n",
              "      <td>0.225000</td>\n",
              "    </tr>\n",
              "  </tbody>\n",
              "</table>\n",
              "<p>15015 rows × 84 columns</p>\n",
              "</div>\n",
              "      <button class=\"colab-df-convert\" onclick=\"convertToInteractive('df-7dcea3de-4cf7-4199-8ffa-4ec122a4118d')\"\n",
              "              title=\"Convert this dataframe to an interactive table.\"\n",
              "              style=\"display:none;\">\n",
              "        \n",
              "  <svg xmlns=\"http://www.w3.org/2000/svg\" height=\"24px\"viewBox=\"0 0 24 24\"\n",
              "       width=\"24px\">\n",
              "    <path d=\"M0 0h24v24H0V0z\" fill=\"none\"/>\n",
              "    <path d=\"M18.56 5.44l.94 2.06.94-2.06 2.06-.94-2.06-.94-.94-2.06-.94 2.06-2.06.94zm-11 1L8.5 8.5l.94-2.06 2.06-.94-2.06-.94L8.5 2.5l-.94 2.06-2.06.94zm10 10l.94 2.06.94-2.06 2.06-.94-2.06-.94-.94-2.06-.94 2.06-2.06.94z\"/><path d=\"M17.41 7.96l-1.37-1.37c-.4-.4-.92-.59-1.43-.59-.52 0-1.04.2-1.43.59L10.3 9.45l-7.72 7.72c-.78.78-.78 2.05 0 2.83L4 21.41c.39.39.9.59 1.41.59.51 0 1.02-.2 1.41-.59l7.78-7.78 2.81-2.81c.8-.78.8-2.07 0-2.86zM5.41 20L4 18.59l7.72-7.72 1.47 1.35L5.41 20z\"/>\n",
              "  </svg>\n",
              "      </button>\n",
              "      \n",
              "  <style>\n",
              "    .colab-df-container {\n",
              "      display:flex;\n",
              "      flex-wrap:wrap;\n",
              "      gap: 12px;\n",
              "    }\n",
              "\n",
              "    .colab-df-convert {\n",
              "      background-color: #E8F0FE;\n",
              "      border: none;\n",
              "      border-radius: 50%;\n",
              "      cursor: pointer;\n",
              "      display: none;\n",
              "      fill: #1967D2;\n",
              "      height: 32px;\n",
              "      padding: 0 0 0 0;\n",
              "      width: 32px;\n",
              "    }\n",
              "\n",
              "    .colab-df-convert:hover {\n",
              "      background-color: #E2EBFA;\n",
              "      box-shadow: 0px 1px 2px rgba(60, 64, 67, 0.3), 0px 1px 3px 1px rgba(60, 64, 67, 0.15);\n",
              "      fill: #174EA6;\n",
              "    }\n",
              "\n",
              "    [theme=dark] .colab-df-convert {\n",
              "      background-color: #3B4455;\n",
              "      fill: #D2E3FC;\n",
              "    }\n",
              "\n",
              "    [theme=dark] .colab-df-convert:hover {\n",
              "      background-color: #434B5C;\n",
              "      box-shadow: 0px 1px 3px 1px rgba(0, 0, 0, 0.15);\n",
              "      filter: drop-shadow(0px 1px 2px rgba(0, 0, 0, 0.3));\n",
              "      fill: #FFFFFF;\n",
              "    }\n",
              "  </style>\n",
              "\n",
              "      <script>\n",
              "        const buttonEl =\n",
              "          document.querySelector('#df-7dcea3de-4cf7-4199-8ffa-4ec122a4118d button.colab-df-convert');\n",
              "        buttonEl.style.display =\n",
              "          google.colab.kernel.accessAllowed ? 'block' : 'none';\n",
              "\n",
              "        async function convertToInteractive(key) {\n",
              "          const element = document.querySelector('#df-7dcea3de-4cf7-4199-8ffa-4ec122a4118d');\n",
              "          const dataTable =\n",
              "            await google.colab.kernel.invokeFunction('convertToInteractive',\n",
              "                                                     [key], {});\n",
              "          if (!dataTable) return;\n",
              "\n",
              "          const docLinkHtml = 'Like what you see? Visit the ' +\n",
              "            '<a target=\"_blank\" href=https://colab.research.google.com/notebooks/data_table.ipynb>data table notebook</a>'\n",
              "            + ' to learn more about interactive tables.';\n",
              "          element.innerHTML = '';\n",
              "          dataTable['output_type'] = 'display_data';\n",
              "          await google.colab.output.renderOutput(dataTable, element);\n",
              "          const docLink = document.createElement('div');\n",
              "          docLink.innerHTML = docLinkHtml;\n",
              "          element.appendChild(docLink);\n",
              "        }\n",
              "      </script>\n",
              "    </div>\n",
              "  </div>\n",
              "  "
            ]
          },
          "metadata": {},
          "execution_count": 15
        }
      ]
    },
    {
      "cell_type": "markdown",
      "metadata": {
        "id": "pdrDyV0N8-f3"
      },
      "source": [
        "## Clasification models"
      ]
    },
    {
      "cell_type": "code",
      "metadata": {
        "id": "P3tlIA9T8_O9"
      },
      "source": [
        "from sklearn.linear_model import RidgeClassifier\n",
        "from sklearn.tree import ExtraTreeClassifier\n",
        "from sklearn.neighbors import RadiusNeighborsClassifier\n",
        "from sklearn.linear_model import LogisticRegression\n",
        "from sklearn.semi_supervised import LabelPropagation\n",
        "from sklearn.semi_supervised import LabelSpreading\n",
        "from sklearn.discriminant_analysis import QuadraticDiscriminantAnalysis\n",
        "from sklearn.discriminant_analysis import LinearDiscriminantAnalysis\n",
        "\n",
        "## List of Classifiers    \n",
        "model_list = []\n",
        "model_list.append(('KNN', KNeighborsClassifier(n_jobs=-1)))\n",
        "model_list.append(('DT', DecisionTreeClassifier(random_state=random_seed)))\n",
        "model_list.append(('SVM', SVC(random_state=random_seed)))  \n",
        "model_list.append(('RF',  RandomForestClassifier(random_state=random_seed, n_jobs=-1)))  \n",
        "model_list.append(('XGB', XGBClassifier(random_state=random_seed)))  \n",
        "model_list.append(('LightGBM', LGBMClassifier(random_state=random_seed, n_jobs=-1)))  \n",
        "model_list.append(('RidgeClassifier', RidgeClassifier()))  \n",
        "model_list.append(('ExtraTree', ExtraTreeClassifier(random_state=0))) \n",
        "#model_list.append(('RadiusNeighbours', RadiusNeighborsClassifier(radius=1.0)))\n",
        "model_list.append(('LR', LogisticRegression(random_state=0))) \n",
        "model_list.append(('LabelPropagation', LabelPropagation())) \n",
        "model_list.append(('LabelSpreading', LabelSpreading())) \n",
        "model_list.append(('QuadraticDiscriminantAnalysis', QuadraticDiscriminantAnalysis())) \n",
        "model_list.append(('LinearDiscriminantAnalysis', LinearDiscriminantAnalysis())) "
      ],
      "execution_count": null,
      "outputs": []
    },
    {
      "cell_type": "markdown",
      "metadata": {
        "id": "2zMC9yAZ9EhW"
      },
      "source": [
        "## Evaluation"
      ]
    },
    {
      "cell_type": "markdown",
      "metadata": {
        "id": "9WeF-DdZ9eWp"
      },
      "source": [
        "### Pipeline"
      ]
    },
    {
      "cell_type": "markdown",
      "source": [
        "Create pipeline based on model_list. Prepend Standard Scaler"
      ],
      "metadata": {
        "id": "oEK3QMTqDeY2"
      }
    },
    {
      "cell_type": "code",
      "metadata": {
        "colab": {
          "base_uri": "https://localhost:8080/"
        },
        "id": "3j7vIiXZ9Fsz",
        "outputId": "b2f78063-130c-4ca4-b707-d84090246384"
      },
      "source": [
        "pipes = []\n",
        "\n",
        "for model in model_list:\n",
        "    name = '{} -> {}'.format('SScaler', model[0])\n",
        "    step = [('StandardScaler', StandardScaler()), model]\n",
        "    pipes.append([name, Pipeline(steps=step)])\n",
        "\n",
        "pipes"
      ],
      "execution_count": null,
      "outputs": [
        {
          "output_type": "execute_result",
          "data": {
            "text/plain": [
              "[['SScaler -> KNN', Pipeline(steps=[('StandardScaler', StandardScaler()),\n",
              "                  ('KNN', KNeighborsClassifier(n_jobs=-1))])],\n",
              " ['SScaler -> DT', Pipeline(steps=[('StandardScaler', StandardScaler()),\n",
              "                  ('DT', DecisionTreeClassifier(random_state=10))])],\n",
              " ['SScaler -> SVM', Pipeline(steps=[('StandardScaler', StandardScaler()),\n",
              "                  ('SVM', SVC(random_state=10))])],\n",
              " ['SScaler -> RF', Pipeline(steps=[('StandardScaler', StandardScaler()),\n",
              "                  ('RF', RandomForestClassifier(n_jobs=-1, random_state=10))])],\n",
              " ['SScaler -> XGB', Pipeline(steps=[('StandardScaler', StandardScaler()),\n",
              "                  ('XGB', XGBClassifier(random_state=10))])],\n",
              " ['SScaler -> LightGBM', Pipeline(steps=[('StandardScaler', StandardScaler()),\n",
              "                  ('LightGBM', LGBMClassifier(random_state=10))])],\n",
              " ['SScaler -> RidgeClassifier',\n",
              "  Pipeline(steps=[('StandardScaler', StandardScaler()),\n",
              "                  ('RidgeClassifier', RidgeClassifier())])],\n",
              " ['SScaler -> ExtraTree', Pipeline(steps=[('StandardScaler', StandardScaler()),\n",
              "                  ('ExtraTree', ExtraTreeClassifier(random_state=0))])],\n",
              " ['SScaler -> LR', Pipeline(steps=[('StandardScaler', StandardScaler()),\n",
              "                  ('LR', LogisticRegression(random_state=0))])],\n",
              " ['SScaler -> LabelPropagation',\n",
              "  Pipeline(steps=[('StandardScaler', StandardScaler()),\n",
              "                  ('LabelPropagation', LabelPropagation())])],\n",
              " ['SScaler -> LabelSpreading',\n",
              "  Pipeline(steps=[('StandardScaler', StandardScaler()),\n",
              "                  ('LabelSpreading', LabelSpreading())])],\n",
              " ['SScaler -> QuadraticDiscriminantAnalysis',\n",
              "  Pipeline(steps=[('StandardScaler', StandardScaler()),\n",
              "                  ('QuadraticDiscriminantAnalysis',\n",
              "                   QuadraticDiscriminantAnalysis())])],\n",
              " ['SScaler -> LinearDiscriminantAnalysis',\n",
              "  Pipeline(steps=[('StandardScaler', StandardScaler()),\n",
              "                  ('LinearDiscriminantAnalysis', LinearDiscriminantAnalysis())])]]"
            ]
          },
          "metadata": {},
          "execution_count": 28
        }
      ]
    },
    {
      "cell_type": "markdown",
      "metadata": {
        "id": "z4_58Pdn9fsw"
      },
      "source": [
        "### Cross validators"
      ]
    },
    {
      "cell_type": "code",
      "metadata": {
        "id": "7fO02dZT9ipk"
      },
      "source": [
        "cvs = []\n",
        "# cvs.append(('KFold', KFold(n_splits=10, shuffle=True, random_state=10)))\n",
        "# cvs.append(('Repeat-KFold', RepeatedKFold(n_splits=10, n_repeats=10, random_state=10)))\n",
        "cvs.append(('Strat-KFold', StratifiedKFold(n_splits=10, shuffle=True, random_state=random_seed)))"
      ],
      "execution_count": null,
      "outputs": []
    },
    {
      "cell_type": "markdown",
      "metadata": {
        "id": "jLA7-RgJA9yg"
      },
      "source": [
        "### Train/Eval"
      ]
    },
    {
      "cell_type": "code",
      "metadata": {
        "colab": {
          "base_uri": "https://localhost:8080/"
        },
        "id": "N4Vd2AaB92T3",
        "outputId": "5f7ba2e3-866d-43ca-eb37-502598ff3319"
      },
      "source": [
        "scorings = ['accuracy', 'f1_macro', 'precision_macro', 'recall_macro']\n",
        "\n",
        "scores = {}\n",
        "\n",
        "for model_name, pipe in pipes:\n",
        "    scores[model_name] = {}\n",
        "    for cv_name, cv in cvs:\n",
        "        scores[model_name][cv_name] = {}\n",
        "\n",
        "        start_time = time.time()\n",
        "        data = np.nan_to_num(data)\n",
        "        n_scores = cross_validate(pipe, data, labels_encoded, cv=cv, scoring=scorings, n_jobs=-1, error_score='raise')\n",
        "        duration = time.time() - start_time\n",
        "        \n",
        "        scores[model_name][cv_name]['duration'] = duration\n",
        "        \n",
        "        print('{} | {} | Time taken : {} sec '.format(model_name, cv_name, duration))\n",
        "        \n",
        "        for scoring in scorings:\n",
        "            test_str = 'test_'+scoring\n",
        "            avg, standard_dev = mean(n_scores[test_str]), std(n_scores[test_str])\n",
        "\n",
        "            scores[model_name][cv_name][scoring] = {\n",
        "                'mean': avg,\n",
        "                'std' : standard_dev\n",
        "            }\n",
        "            print('{} : {} ({})'.format(scoring, avg, standard_dev))\n",
        "\n",
        "        print('='*100)"
      ],
      "execution_count": null,
      "outputs": [
        {
          "output_type": "stream",
          "name": "stdout",
          "text": [
            "SScaler -> KNN | Strat-KFold | Time taken : 7.139177560806274 sec \n",
            "accuracy : 0.7049611843325045 (0.006142402178067227)\n",
            "f1_macro : 0.6970639845658068 (0.005888961697017527)\n",
            "precision_macro : 0.7048655356854217 (0.0073231243205061905)\n",
            "recall_macro : 0.7048659658420472 (0.006152169823198118)\n",
            "====================================================================================================\n",
            "SScaler -> DT | Strat-KFold | Time taken : 12.286929607391357 sec \n",
            "accuracy : 0.8360317710962331 (0.010000169382368045)\n",
            "f1_macro : 0.8357235662961857 (0.009488201571688153)\n",
            "precision_macro : 0.8370375736235784 (0.008893535530709281)\n",
            "recall_macro : 0.8357810747097092 (0.009907978380146888)\n",
            "====================================================================================================\n",
            "SScaler -> SVM | Strat-KFold | Time taken : 65.27836561203003 sec \n",
            "accuracy : 0.6960376615323473 (0.009153710108022923)\n",
            "f1_macro : 0.6848705253408849 (0.009871355498291115)\n",
            "precision_macro : 0.6873624147810926 (0.010495678551191113)\n",
            "recall_macro : 0.6961911386157551 (0.009324659538025384)\n",
            "====================================================================================================\n",
            "SScaler -> RF | Strat-KFold | Time taken : 80.89694023132324 sec \n",
            "accuracy : 0.9562442614821366 (0.004532938352512571)\n",
            "f1_macro : 0.955809409549056 (0.004663212802008604)\n",
            "precision_macro : 0.9565355391677667 (0.004541070495834953)\n",
            "recall_macro : 0.956041066635318 (0.00457845578858044)\n",
            "====================================================================================================\n",
            "SScaler -> XGB | Strat-KFold | Time taken : 608.0216710567474 sec \n",
            "accuracy : 0.8325016788630037 (0.008053206807029981)\n",
            "f1_macro : 0.8310236636327701 (0.00819449291532195)\n",
            "precision_macro : 0.8340060668215716 (0.008163130486334887)\n",
            "recall_macro : 0.8324463318899926 (0.00813617641266215)\n",
            "====================================================================================================\n",
            "SScaler -> LightGBM | Strat-KFold | Time taken : 263.12679958343506 sec \n",
            "accuracy : 0.9591747090931833 (0.0029417300151484663)\n",
            "f1_macro : 0.9589772286466662 (0.002998833894545337)\n",
            "precision_macro : 0.9594546724218898 (0.00292719549735404)\n",
            "recall_macro : 0.9590355727706156 (0.002981384806877403)\n",
            "====================================================================================================\n",
            "SScaler -> RidgeClassifier | Strat-KFold | Time taken : 0.77787184715271 sec \n",
            "accuracy : 0.5753571742229548 (0.00830575358139704)\n",
            "f1_macro : 0.520556972779417 (0.008654617017170024)\n",
            "precision_macro : 0.5336425567923642 (0.015164100196111504)\n",
            "recall_macro : 0.57532461304434 (0.008340198590180172)\n",
            "====================================================================================================\n",
            "SScaler -> ExtraTree | Strat-KFold | Time taken : 0.6101157665252686 sec \n",
            "accuracy : 0.8692624801397383 (0.008269458118931787)\n",
            "f1_macro : 0.8680251055416981 (0.008297982221432782)\n",
            "precision_macro : 0.869456626795318 (0.007649743463329333)\n",
            "recall_macro : 0.8688196714450587 (0.008238168554485469)\n",
            "====================================================================================================\n",
            "SScaler -> LR | Strat-KFold | Time taken : 17.99910807609558 sec \n",
            "accuracy : 0.6428247125085716 (0.009146250105673928)\n",
            "f1_macro : 0.6262329527632292 (0.010073268865085486)\n",
            "precision_macro : 0.6239688585716613 (0.011707738571513108)\n",
            "recall_macro : 0.642876550451682 (0.009307606136379749)\n",
            "====================================================================================================\n"
          ]
        },
        {
          "output_type": "stream",
          "name": "stderr",
          "text": [
            "/usr/local/lib/python3.7/dist-packages/joblib/externals/loky/process_executor.py:703: UserWarning: A worker stopped while some jobs were given to the executor. This can be caused by a too short worker timeout or by a memory leak.\n",
            "  \"timeout or by a memory leak.\", UserWarning\n"
          ]
        },
        {
          "output_type": "stream",
          "name": "stdout",
          "text": [
            "SScaler -> LabelPropagation | Strat-KFold | Time taken : 68.26070141792297 sec \n",
            "accuracy : 0.645552898156666 (0.011671875011469497)\n",
            "f1_macro : 0.6423987809315169 (0.01159540937119643)\n",
            "precision_macro : 0.668712952892795 (0.00955384672994356)\n",
            "recall_macro : 0.645393942780584 (0.01174315997250118)\n",
            "====================================================================================================\n"
          ]
        },
        {
          "output_type": "stream",
          "name": "stderr",
          "text": [
            "/usr/local/lib/python3.7/dist-packages/joblib/externals/loky/process_executor.py:703: UserWarning: A worker stopped while some jobs were given to the executor. This can be caused by a too short worker timeout or by a memory leak.\n",
            "  \"timeout or by a memory leak.\", UserWarning\n"
          ]
        },
        {
          "output_type": "stream",
          "name": "stdout",
          "text": [
            "SScaler -> LabelSpreading | Strat-KFold | Time taken : 125.56092286109924 sec \n",
            "accuracy : 0.6460855656814676 (0.012084487642191534)\n",
            "f1_macro : 0.6428350177066653 (0.011960753408480568)\n",
            "precision_macro : 0.6690335616493555 (0.00974466706605079)\n",
            "recall_macro : 0.6459261338501582 (0.012136926198959534)\n",
            "====================================================================================================\n",
            "SScaler -> QuadraticDiscriminantAnalysis | Strat-KFold | Time taken : 1.8924553394317627 sec \n",
            "accuracy : 0.45174273520271885 (0.026174820961846555)\n",
            "f1_macro : 0.4078066136805738 (0.027996415721329077)\n",
            "precision_macro : 0.5192551842310584 (0.032482573149973014)\n",
            "recall_macro : 0.45185238965587604 (0.025877362897706653)\n",
            "====================================================================================================\n",
            "SScaler -> LinearDiscriminantAnalysis | Strat-KFold | Time taken : 2.9238297939300537 sec \n",
            "accuracy : 0.6110535275639586 (0.012376547183709851)\n",
            "f1_macro : 0.5922771128626686 (0.012118142546681167)\n",
            "precision_macro : 0.5915948678301716 (0.013944481022829745)\n",
            "recall_macro : 0.6110292146208588 (0.012445991852602725)\n",
            "====================================================================================================\n"
          ]
        }
      ]
    },
    {
      "cell_type": "markdown",
      "metadata": {
        "id": "_zb7CgxrrNKK"
      },
      "source": [
        "## Visualization"
      ]
    },
    {
      "cell_type": "code",
      "metadata": {
        "id": "lmGM06M4rJ8B",
        "colab": {
          "base_uri": "https://localhost:8080/"
        },
        "outputId": "edad9e04-5d8a-44c4-8feb-b098ec34ebb4"
      },
      "source": [
        "scores"
      ],
      "execution_count": null,
      "outputs": [
        {
          "output_type": "execute_result",
          "data": {
            "text/plain": [
              "{'SScaler -> KNN': {'Strat-KFold': {'duration': 7.139177560806274,\n",
              "   'accuracy': {'mean': 0.7049611843325045, 'std': 0.006142402178067227},\n",
              "   'f1_macro': {'mean': 0.6970639845658068, 'std': 0.005888961697017527},\n",
              "   'precision_macro': {'mean': 0.7048655356854217,\n",
              "    'std': 0.0073231243205061905},\n",
              "   'recall_macro': {'mean': 0.7048659658420472, 'std': 0.006152169823198118}}},\n",
              " 'SScaler -> DT': {'Strat-KFold': {'duration': 12.286929607391357,\n",
              "   'accuracy': {'mean': 0.8360317710962331, 'std': 0.010000169382368045},\n",
              "   'f1_macro': {'mean': 0.8357235662961857, 'std': 0.009488201571688153},\n",
              "   'precision_macro': {'mean': 0.8370375736235784,\n",
              "    'std': 0.008893535530709281},\n",
              "   'recall_macro': {'mean': 0.8357810747097092, 'std': 0.009907978380146888}}},\n",
              " 'SScaler -> SVM': {'Strat-KFold': {'duration': 65.27836561203003,\n",
              "   'accuracy': {'mean': 0.6960376615323473, 'std': 0.009153710108022923},\n",
              "   'f1_macro': {'mean': 0.6848705253408849, 'std': 0.009871355498291115},\n",
              "   'precision_macro': {'mean': 0.6873624147810926,\n",
              "    'std': 0.010495678551191113},\n",
              "   'recall_macro': {'mean': 0.6961911386157551, 'std': 0.009324659538025384}}},\n",
              " 'SScaler -> RF': {'Strat-KFold': {'duration': 80.89694023132324,\n",
              "   'accuracy': {'mean': 0.9562442614821366, 'std': 0.004532938352512571},\n",
              "   'f1_macro': {'mean': 0.955809409549056, 'std': 0.004663212802008604},\n",
              "   'precision_macro': {'mean': 0.9565355391677667,\n",
              "    'std': 0.004541070495834953},\n",
              "   'recall_macro': {'mean': 0.956041066635318, 'std': 0.00457845578858044}}},\n",
              " 'SScaler -> XGB': {'Strat-KFold': {'duration': 608.0216710567474,\n",
              "   'accuracy': {'mean': 0.8325016788630037, 'std': 0.008053206807029981},\n",
              "   'f1_macro': {'mean': 0.8310236636327701, 'std': 0.00819449291532195},\n",
              "   'precision_macro': {'mean': 0.8340060668215716,\n",
              "    'std': 0.008163130486334887},\n",
              "   'recall_macro': {'mean': 0.8324463318899926, 'std': 0.00813617641266215}}},\n",
              " 'SScaler -> LightGBM': {'Strat-KFold': {'duration': 263.12679958343506,\n",
              "   'accuracy': {'mean': 0.9591747090931833, 'std': 0.0029417300151484663},\n",
              "   'f1_macro': {'mean': 0.9589772286466662, 'std': 0.002998833894545337},\n",
              "   'precision_macro': {'mean': 0.9594546724218898, 'std': 0.00292719549735404},\n",
              "   'recall_macro': {'mean': 0.9590355727706156, 'std': 0.002981384806877403}}},\n",
              " 'SScaler -> RidgeClassifier': {'Strat-KFold': {'duration': 0.77787184715271,\n",
              "   'accuracy': {'mean': 0.5753571742229548, 'std': 0.00830575358139704},\n",
              "   'f1_macro': {'mean': 0.520556972779417, 'std': 0.008654617017170024},\n",
              "   'precision_macro': {'mean': 0.5336425567923642,\n",
              "    'std': 0.015164100196111504},\n",
              "   'recall_macro': {'mean': 0.57532461304434, 'std': 0.008340198590180172}}},\n",
              " 'SScaler -> ExtraTree': {'Strat-KFold': {'duration': 0.6101157665252686,\n",
              "   'accuracy': {'mean': 0.8692624801397383, 'std': 0.008269458118931787},\n",
              "   'f1_macro': {'mean': 0.8680251055416981, 'std': 0.008297982221432782},\n",
              "   'precision_macro': {'mean': 0.869456626795318, 'std': 0.007649743463329333},\n",
              "   'recall_macro': {'mean': 0.8688196714450587, 'std': 0.008238168554485469}}},\n",
              " 'SScaler -> LR': {'Strat-KFold': {'duration': 17.99910807609558,\n",
              "   'accuracy': {'mean': 0.6428247125085716, 'std': 0.009146250105673928},\n",
              "   'f1_macro': {'mean': 0.6262329527632292, 'std': 0.010073268865085486},\n",
              "   'precision_macro': {'mean': 0.6239688585716613,\n",
              "    'std': 0.011707738571513108},\n",
              "   'recall_macro': {'mean': 0.642876550451682, 'std': 0.009307606136379749}}},\n",
              " 'SScaler -> LabelPropagation': {'Strat-KFold': {'duration': 68.26070141792297,\n",
              "   'accuracy': {'mean': 0.645552898156666, 'std': 0.011671875011469497},\n",
              "   'f1_macro': {'mean': 0.6423987809315169, 'std': 0.01159540937119643},\n",
              "   'precision_macro': {'mean': 0.668712952892795, 'std': 0.00955384672994356},\n",
              "   'recall_macro': {'mean': 0.645393942780584, 'std': 0.01174315997250118}}},\n",
              " 'SScaler -> LabelSpreading': {'Strat-KFold': {'duration': 125.56092286109924,\n",
              "   'accuracy': {'mean': 0.6460855656814676, 'std': 0.012084487642191534},\n",
              "   'f1_macro': {'mean': 0.6428350177066653, 'std': 0.011960753408480568},\n",
              "   'precision_macro': {'mean': 0.6690335616493555, 'std': 0.00974466706605079},\n",
              "   'recall_macro': {'mean': 0.6459261338501582, 'std': 0.012136926198959534}}},\n",
              " 'SScaler -> QuadraticDiscriminantAnalysis': {'Strat-KFold': {'duration': 1.8924553394317627,\n",
              "   'accuracy': {'mean': 0.45174273520271885, 'std': 0.026174820961846555},\n",
              "   'f1_macro': {'mean': 0.4078066136805738, 'std': 0.027996415721329077},\n",
              "   'precision_macro': {'mean': 0.5192551842310584,\n",
              "    'std': 0.032482573149973014},\n",
              "   'recall_macro': {'mean': 0.45185238965587604,\n",
              "    'std': 0.025877362897706653}}},\n",
              " 'SScaler -> LinearDiscriminantAnalysis': {'Strat-KFold': {'duration': 2.9238297939300537,\n",
              "   'accuracy': {'mean': 0.6110535275639586, 'std': 0.012376547183709851},\n",
              "   'f1_macro': {'mean': 0.5922771128626686, 'std': 0.012118142546681167},\n",
              "   'precision_macro': {'mean': 0.5915948678301716,\n",
              "    'std': 0.013944481022829745},\n",
              "   'recall_macro': {'mean': 0.6110292146208588, 'std': 0.012445991852602725}}}}"
            ]
          },
          "metadata": {},
          "execution_count": 31
        }
      ]
    },
    {
      "cell_type": "code",
      "metadata": {
        "id": "XORcbZjQrL2c",
        "colab": {
          "base_uri": "https://localhost:8080/",
          "height": 457
        },
        "outputId": "ecef9ac2-9a45-4467-a124-5d52e54f8aba"
      },
      "source": [
        "# See accuracy \n",
        "scores_dataframe = pd.DataFrame.from_dict({(i,j): scores[i][j]['accuracy']\n",
        "                           for i in scores.keys() \n",
        "                           for j in scores[i].keys()},\n",
        "                       orient='index')\n",
        "\n",
        "# scores_dataframe.insert(2, 'duration', [scores[i][j][k]['duration'] for i in scores.keys() for j in scores[i].keys() for k in scores[i][j].keys()])\n",
        "\n",
        "scores_dataframe"
      ],
      "execution_count": null,
      "outputs": [
        {
          "output_type": "execute_result",
          "data": {
            "text/plain": [
              "                                                          mean       std\n",
              "SScaler -> KNN                           Strat-KFold  0.704961  0.006142\n",
              "SScaler -> DT                            Strat-KFold  0.836032  0.010000\n",
              "SScaler -> SVM                           Strat-KFold  0.696038  0.009154\n",
              "SScaler -> RF                            Strat-KFold  0.956244  0.004533\n",
              "SScaler -> XGB                           Strat-KFold  0.832502  0.008053\n",
              "SScaler -> LightGBM                      Strat-KFold  0.959175  0.002942\n",
              "SScaler -> RidgeClassifier               Strat-KFold  0.575357  0.008306\n",
              "SScaler -> ExtraTree                     Strat-KFold  0.869262  0.008269\n",
              "SScaler -> LR                            Strat-KFold  0.642825  0.009146\n",
              "SScaler -> LabelPropagation              Strat-KFold  0.645553  0.011672\n",
              "SScaler -> LabelSpreading                Strat-KFold  0.646086  0.012084\n",
              "SScaler -> QuadraticDiscriminantAnalysis Strat-KFold  0.451743  0.026175\n",
              "SScaler -> LinearDiscriminantAnalysis    Strat-KFold  0.611054  0.012377"
            ],
            "text/html": [
              "\n",
              "  <div id=\"df-7546fc8e-be2f-49c1-80e6-4bddef2d9de6\">\n",
              "    <div class=\"colab-df-container\">\n",
              "      <div>\n",
              "<style scoped>\n",
              "    .dataframe tbody tr th:only-of-type {\n",
              "        vertical-align: middle;\n",
              "    }\n",
              "\n",
              "    .dataframe tbody tr th {\n",
              "        vertical-align: top;\n",
              "    }\n",
              "\n",
              "    .dataframe thead th {\n",
              "        text-align: right;\n",
              "    }\n",
              "</style>\n",
              "<table border=\"1\" class=\"dataframe\">\n",
              "  <thead>\n",
              "    <tr style=\"text-align: right;\">\n",
              "      <th></th>\n",
              "      <th></th>\n",
              "      <th>mean</th>\n",
              "      <th>std</th>\n",
              "    </tr>\n",
              "  </thead>\n",
              "  <tbody>\n",
              "    <tr>\n",
              "      <th>SScaler -&gt; KNN</th>\n",
              "      <th>Strat-KFold</th>\n",
              "      <td>0.704961</td>\n",
              "      <td>0.006142</td>\n",
              "    </tr>\n",
              "    <tr>\n",
              "      <th>SScaler -&gt; DT</th>\n",
              "      <th>Strat-KFold</th>\n",
              "      <td>0.836032</td>\n",
              "      <td>0.010000</td>\n",
              "    </tr>\n",
              "    <tr>\n",
              "      <th>SScaler -&gt; SVM</th>\n",
              "      <th>Strat-KFold</th>\n",
              "      <td>0.696038</td>\n",
              "      <td>0.009154</td>\n",
              "    </tr>\n",
              "    <tr>\n",
              "      <th>SScaler -&gt; RF</th>\n",
              "      <th>Strat-KFold</th>\n",
              "      <td>0.956244</td>\n",
              "      <td>0.004533</td>\n",
              "    </tr>\n",
              "    <tr>\n",
              "      <th>SScaler -&gt; XGB</th>\n",
              "      <th>Strat-KFold</th>\n",
              "      <td>0.832502</td>\n",
              "      <td>0.008053</td>\n",
              "    </tr>\n",
              "    <tr>\n",
              "      <th>SScaler -&gt; LightGBM</th>\n",
              "      <th>Strat-KFold</th>\n",
              "      <td>0.959175</td>\n",
              "      <td>0.002942</td>\n",
              "    </tr>\n",
              "    <tr>\n",
              "      <th>SScaler -&gt; RidgeClassifier</th>\n",
              "      <th>Strat-KFold</th>\n",
              "      <td>0.575357</td>\n",
              "      <td>0.008306</td>\n",
              "    </tr>\n",
              "    <tr>\n",
              "      <th>SScaler -&gt; ExtraTree</th>\n",
              "      <th>Strat-KFold</th>\n",
              "      <td>0.869262</td>\n",
              "      <td>0.008269</td>\n",
              "    </tr>\n",
              "    <tr>\n",
              "      <th>SScaler -&gt; LR</th>\n",
              "      <th>Strat-KFold</th>\n",
              "      <td>0.642825</td>\n",
              "      <td>0.009146</td>\n",
              "    </tr>\n",
              "    <tr>\n",
              "      <th>SScaler -&gt; LabelPropagation</th>\n",
              "      <th>Strat-KFold</th>\n",
              "      <td>0.645553</td>\n",
              "      <td>0.011672</td>\n",
              "    </tr>\n",
              "    <tr>\n",
              "      <th>SScaler -&gt; LabelSpreading</th>\n",
              "      <th>Strat-KFold</th>\n",
              "      <td>0.646086</td>\n",
              "      <td>0.012084</td>\n",
              "    </tr>\n",
              "    <tr>\n",
              "      <th>SScaler -&gt; QuadraticDiscriminantAnalysis</th>\n",
              "      <th>Strat-KFold</th>\n",
              "      <td>0.451743</td>\n",
              "      <td>0.026175</td>\n",
              "    </tr>\n",
              "    <tr>\n",
              "      <th>SScaler -&gt; LinearDiscriminantAnalysis</th>\n",
              "      <th>Strat-KFold</th>\n",
              "      <td>0.611054</td>\n",
              "      <td>0.012377</td>\n",
              "    </tr>\n",
              "  </tbody>\n",
              "</table>\n",
              "</div>\n",
              "      <button class=\"colab-df-convert\" onclick=\"convertToInteractive('df-7546fc8e-be2f-49c1-80e6-4bddef2d9de6')\"\n",
              "              title=\"Convert this dataframe to an interactive table.\"\n",
              "              style=\"display:none;\">\n",
              "        \n",
              "  <svg xmlns=\"http://www.w3.org/2000/svg\" height=\"24px\"viewBox=\"0 0 24 24\"\n",
              "       width=\"24px\">\n",
              "    <path d=\"M0 0h24v24H0V0z\" fill=\"none\"/>\n",
              "    <path d=\"M18.56 5.44l.94 2.06.94-2.06 2.06-.94-2.06-.94-.94-2.06-.94 2.06-2.06.94zm-11 1L8.5 8.5l.94-2.06 2.06-.94-2.06-.94L8.5 2.5l-.94 2.06-2.06.94zm10 10l.94 2.06.94-2.06 2.06-.94-2.06-.94-.94-2.06-.94 2.06-2.06.94z\"/><path d=\"M17.41 7.96l-1.37-1.37c-.4-.4-.92-.59-1.43-.59-.52 0-1.04.2-1.43.59L10.3 9.45l-7.72 7.72c-.78.78-.78 2.05 0 2.83L4 21.41c.39.39.9.59 1.41.59.51 0 1.02-.2 1.41-.59l7.78-7.78 2.81-2.81c.8-.78.8-2.07 0-2.86zM5.41 20L4 18.59l7.72-7.72 1.47 1.35L5.41 20z\"/>\n",
              "  </svg>\n",
              "      </button>\n",
              "      \n",
              "  <style>\n",
              "    .colab-df-container {\n",
              "      display:flex;\n",
              "      flex-wrap:wrap;\n",
              "      gap: 12px;\n",
              "    }\n",
              "\n",
              "    .colab-df-convert {\n",
              "      background-color: #E8F0FE;\n",
              "      border: none;\n",
              "      border-radius: 50%;\n",
              "      cursor: pointer;\n",
              "      display: none;\n",
              "      fill: #1967D2;\n",
              "      height: 32px;\n",
              "      padding: 0 0 0 0;\n",
              "      width: 32px;\n",
              "    }\n",
              "\n",
              "    .colab-df-convert:hover {\n",
              "      background-color: #E2EBFA;\n",
              "      box-shadow: 0px 1px 2px rgba(60, 64, 67, 0.3), 0px 1px 3px 1px rgba(60, 64, 67, 0.15);\n",
              "      fill: #174EA6;\n",
              "    }\n",
              "\n",
              "    [theme=dark] .colab-df-convert {\n",
              "      background-color: #3B4455;\n",
              "      fill: #D2E3FC;\n",
              "    }\n",
              "\n",
              "    [theme=dark] .colab-df-convert:hover {\n",
              "      background-color: #434B5C;\n",
              "      box-shadow: 0px 1px 3px 1px rgba(0, 0, 0, 0.15);\n",
              "      filter: drop-shadow(0px 1px 2px rgba(0, 0, 0, 0.3));\n",
              "      fill: #FFFFFF;\n",
              "    }\n",
              "  </style>\n",
              "\n",
              "      <script>\n",
              "        const buttonEl =\n",
              "          document.querySelector('#df-7546fc8e-be2f-49c1-80e6-4bddef2d9de6 button.colab-df-convert');\n",
              "        buttonEl.style.display =\n",
              "          google.colab.kernel.accessAllowed ? 'block' : 'none';\n",
              "\n",
              "        async function convertToInteractive(key) {\n",
              "          const element = document.querySelector('#df-7546fc8e-be2f-49c1-80e6-4bddef2d9de6');\n",
              "          const dataTable =\n",
              "            await google.colab.kernel.invokeFunction('convertToInteractive',\n",
              "                                                     [key], {});\n",
              "          if (!dataTable) return;\n",
              "\n",
              "          const docLinkHtml = 'Like what you see? Visit the ' +\n",
              "            '<a target=\"_blank\" href=https://colab.research.google.com/notebooks/data_table.ipynb>data table notebook</a>'\n",
              "            + ' to learn more about interactive tables.';\n",
              "          element.innerHTML = '';\n",
              "          dataTable['output_type'] = 'display_data';\n",
              "          await google.colab.output.renderOutput(dataTable, element);\n",
              "          const docLink = document.createElement('div');\n",
              "          docLink.innerHTML = docLinkHtml;\n",
              "          element.appendChild(docLink);\n",
              "        }\n",
              "      </script>\n",
              "    </div>\n",
              "  </div>\n",
              "  "
            ]
          },
          "metadata": {},
          "execution_count": 32
        }
      ]
    },
    {
      "cell_type": "markdown",
      "source": [
        "# Fit"
      ],
      "metadata": {
        "id": "d8KpBMOHYhIS"
      }
    },
    {
      "cell_type": "code",
      "source": [
        "for _, pipe in pipes:\n",
        "    pipe.fit(data, labels_encoded)"
      ],
      "metadata": {
        "id": "zxoOR40kYi2L",
        "colab": {
          "base_uri": "https://localhost:8080/"
        },
        "outputId": "9ea4326e-cc05-4cae-9d75-12cbe893fe9d"
      },
      "execution_count": null,
      "outputs": [
        {
          "output_type": "stream",
          "name": "stderr",
          "text": [
            "/usr/local/lib/python3.7/dist-packages/sklearn/linear_model/_logistic.py:818: ConvergenceWarning: lbfgs failed to converge (status=1):\n",
            "STOP: TOTAL NO. of ITERATIONS REACHED LIMIT.\n",
            "\n",
            "Increase the number of iterations (max_iter) or scale the data as shown in:\n",
            "    https://scikit-learn.org/stable/modules/preprocessing.html\n",
            "Please also refer to the documentation for alternative solver options:\n",
            "    https://scikit-learn.org/stable/modules/linear_model.html#logistic-regression\n",
            "  extra_warning_msg=_LOGISTIC_SOLVER_CONVERGENCE_MSG,\n",
            "/usr/local/lib/python3.7/dist-packages/sklearn/discriminant_analysis.py:878: UserWarning: Variables are collinear\n",
            "  warnings.warn(\"Variables are collinear\")\n"
          ]
        }
      ]
    },
    {
      "cell_type": "markdown",
      "metadata": {
        "id": "MlMXILxLVzXN"
      },
      "source": [
        "# Save"
      ]
    },
    {
      "cell_type": "code",
      "execution_count": null,
      "metadata": {
        "id": "eysxl0F0dMeH"
      },
      "outputs": [],
      "source": [
        "with open(\"/content/drive/Shareddrives/Ink/PDIoT/model_development/results_thingy_accel_gyro_ml_only_no_dimen.json\", \"w\") as outfile:\n",
        "    json.dump(scores, outfile, indent = 4)"
      ]
    },
    {
      "cell_type": "code",
      "source": [
        "!mkdir -p \"/content/drive/Shareddrives/Ink/PDIoT/model_development/models_thingy_accel_gyro_ml_only_no_dimen_reduc/\""
      ],
      "metadata": {
        "id": "l0lMEgo3rVF6"
      },
      "execution_count": null,
      "outputs": []
    },
    {
      "cell_type": "code",
      "execution_count": null,
      "metadata": {
        "id": "uh4MEaUbVz4d"
      },
      "outputs": [],
      "source": [
        "for name, pipe in pipes:\n",
        "    joblib.dump(pipe, f\"/content/drive/Shareddrives/Ink/PDIoT/model_development/models_thingy_accel_gyro_ml_only_no_dimen_reduc/{name}.joblib\")"
      ]
    }
  ]
}